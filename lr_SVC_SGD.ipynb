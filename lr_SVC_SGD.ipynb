{
 "cells": [
  {
   "cell_type": "code",
   "execution_count": 1,
   "id": "ac7e86aa",
   "metadata": {},
   "outputs": [],
   "source": [
    "get_ipython().run_line_magic('matplotlib', 'inline')\n",
    "import numpy as np\n",
    "import matplotlib.pyplot as plt\n",
    "from matplotlib import pylab\n",
    "pylab.rcParams[\"figure.figsize\"] = (5.0, 4.0)\n",
    "from sklearn.model_selection import train_test_split\n",
    "import pandas as pd\n",
    "from sklearn.preprocessing import StandardScaler\n",
    "from sklearn.model_selection import cross_val_score\n",
    "import seaborn as sns\n",
    "sns.set_style('whitegrid')\n",
    "from sklearn.linear_model import LogisticRegression\n",
    "from matplotlib import pylab\n",
    "pylab.rcParams[\"figure.figsize\"] = (5.0, 4.0)\n",
    "from sklearn.linear_model import SGDClassifier\n",
    "from sklearn.svm import LinearSVC\n",
    "import warnings\n",
    "warnings.filterwarnings('ignore')\n",
    "from sklearn.pipeline import make_pipeline\n",
    "from sklearn.model_selection import KFold\n",
    "from sklearn.metrics import precision_recall_fscore_support\n",
    "from sklearn.metrics import accuracy_score, roc_auc_score\n",
    "from sklearn.metrics import confusion_matrix, ConfusionMatrixDisplay\n",
    "from sklearn.impute import SimpleImputer"
   ]
  },
  {
   "cell_type": "markdown",
   "id": "0e25f97a",
   "metadata": {},
   "source": [
    "# Data Import and Exploration"
   ]
  },
  {
   "cell_type": "code",
   "execution_count": 2,
   "id": "80d1ca13",
   "metadata": {},
   "outputs": [],
   "source": [
    "data1 = pd.read_csv(\"./il_statewide_2020_04_01.csv\")"
   ]
  },
  {
   "cell_type": "code",
   "execution_count": 3,
   "id": "e2bce8a4",
   "metadata": {},
   "outputs": [
    {
     "name": "stdout",
     "output_type": "stream",
     "text": [
      "There are 12748173 rows in this complete dataset.\n"
     ]
    }
   ],
   "source": [
    "print(\"There are\",data1.shape[0], 'rows in this complete dataset.')"
   ]
  },
  {
   "cell_type": "markdown",
   "id": "ac557d0f",
   "metadata": {},
   "source": [
    "Due to computer speed concerns, I am using only a subset of the data (100,000 samples as opposed to the 1.2 million in the original CSV file.) The code below works on larger datasets, but takes significant computer resources."
   ]
  },
  {
   "cell_type": "code",
   "execution_count": 4,
   "id": "43b398b3",
   "metadata": {},
   "outputs": [],
   "source": [
    "data = data1.sample(n=100000, random_state=42)"
   ]
  },
  {
   "cell_type": "code",
   "execution_count": 5,
   "id": "3694cad9",
   "metadata": {},
   "outputs": [
    {
     "name": "stdout",
     "output_type": "stream",
     "text": [
      "There are 100000 rows and 29 columns (variables) in the subsetted dataset used for further analysis.\n"
     ]
    }
   ],
   "source": [
    "print('There are', data.shape[0], 'rows and', data.shape[1], 'columns (variables) in the subsetted dataset used for further analysis.')"
   ]
  },
  {
   "cell_type": "code",
   "execution_count": 6,
   "id": "d920186d",
   "metadata": {},
   "outputs": [
    {
     "name": "stdout",
     "output_type": "stream",
     "text": [
      "The columns (variables) in this dataset are ['raw_row_number', 'date', 'time', 'location', 'beat', 'subject_age', 'subject_race', 'subject_sex', 'department_id', 'department_name', 'type', 'violation', 'citation_issued', 'warning_issued', 'outcome', 'contraband_found', 'contraband_drugs', 'contraband_weapons', 'search_conducted', 'search_person', 'search_vehicle', 'search_basis', 'reason_for_stop', 'vehicle_make', 'vehicle_year', 'raw_DriverRace', 'raw_ReasonForStop', 'raw_TypeOfMovingViolation', 'raw_ResultOfStop']\n"
     ]
    }
   ],
   "source": [
    "print('The columns (variables) in this dataset are', data.columns.tolist())"
   ]
  },
  {
   "cell_type": "code",
   "execution_count": 7,
   "id": "47c27f6f",
   "metadata": {},
   "outputs": [
    {
     "data": {
      "text/html": [
       "<div>\n",
       "<style scoped>\n",
       "    .dataframe tbody tr th:only-of-type {\n",
       "        vertical-align: middle;\n",
       "    }\n",
       "\n",
       "    .dataframe tbody tr th {\n",
       "        vertical-align: top;\n",
       "    }\n",
       "\n",
       "    .dataframe thead th {\n",
       "        text-align: right;\n",
       "    }\n",
       "</style>\n",
       "<table border=\"1\" class=\"dataframe\">\n",
       "  <thead>\n",
       "    <tr style=\"text-align: right;\">\n",
       "      <th></th>\n",
       "      <th>raw_row_number</th>\n",
       "      <th>subject_age</th>\n",
       "      <th>department_id</th>\n",
       "      <th>vehicle_year</th>\n",
       "      <th>raw_DriverRace</th>\n",
       "      <th>raw_ReasonForStop</th>\n",
       "      <th>raw_TypeOfMovingViolation</th>\n",
       "      <th>raw_ResultOfStop</th>\n",
       "    </tr>\n",
       "  </thead>\n",
       "  <tbody>\n",
       "    <tr>\n",
       "      <th>count</th>\n",
       "      <td>1.000000e+05</td>\n",
       "      <td>75.000000</td>\n",
       "      <td>100000.000000</td>\n",
       "      <td>99894.000000</td>\n",
       "      <td>100000.000000</td>\n",
       "      <td>100000.000000</td>\n",
       "      <td>100000.000000</td>\n",
       "      <td>100000.000000</td>\n",
       "    </tr>\n",
       "    <tr>\n",
       "      <th>mean</th>\n",
       "      <td>6.363389e+06</td>\n",
       "      <td>33.213333</td>\n",
       "      <td>13489.823710</td>\n",
       "      <td>2005.272579</td>\n",
       "      <td>1.798940</td>\n",
       "      <td>1.458280</td>\n",
       "      <td>1.640210</td>\n",
       "      <td>1.756950</td>\n",
       "    </tr>\n",
       "    <tr>\n",
       "      <th>std</th>\n",
       "      <td>3.684847e+06</td>\n",
       "      <td>12.682498</td>\n",
       "      <td>350.529826</td>\n",
       "      <td>6.860235</td>\n",
       "      <td>7.815235</td>\n",
       "      <td>0.735082</td>\n",
       "      <td>1.898557</td>\n",
       "      <td>0.795904</td>\n",
       "    </tr>\n",
       "    <tr>\n",
       "      <th>min</th>\n",
       "      <td>1.300000e+01</td>\n",
       "      <td>17.000000</td>\n",
       "      <td>10011.000000</td>\n",
       "      <td>1900.000000</td>\n",
       "      <td>1.000000</td>\n",
       "      <td>1.000000</td>\n",
       "      <td>0.000000</td>\n",
       "      <td>1.000000</td>\n",
       "    </tr>\n",
       "    <tr>\n",
       "      <th>25%</th>\n",
       "      <td>3.179948e+06</td>\n",
       "      <td>25.000000</td>\n",
       "      <td>13194.000000</td>\n",
       "      <td>2001.000000</td>\n",
       "      <td>1.000000</td>\n",
       "      <td>1.000000</td>\n",
       "      <td>0.000000</td>\n",
       "      <td>1.000000</td>\n",
       "    </tr>\n",
       "    <tr>\n",
       "      <th>50%</th>\n",
       "      <td>6.355212e+06</td>\n",
       "      <td>29.000000</td>\n",
       "      <td>13439.000000</td>\n",
       "      <td>2006.000000</td>\n",
       "      <td>1.000000</td>\n",
       "      <td>1.000000</td>\n",
       "      <td>1.000000</td>\n",
       "      <td>2.000000</td>\n",
       "    </tr>\n",
       "    <tr>\n",
       "      <th>75%</th>\n",
       "      <td>9.563472e+06</td>\n",
       "      <td>38.000000</td>\n",
       "      <td>13864.000000</td>\n",
       "      <td>2010.000000</td>\n",
       "      <td>2.000000</td>\n",
       "      <td>2.000000</td>\n",
       "      <td>2.000000</td>\n",
       "      <td>2.000000</td>\n",
       "    </tr>\n",
       "    <tr>\n",
       "      <th>max</th>\n",
       "      <td>1.274792e+07</td>\n",
       "      <td>78.000000</td>\n",
       "      <td>14150.000000</td>\n",
       "      <td>2018.000000</td>\n",
       "      <td>999.000000</td>\n",
       "      <td>4.000000</td>\n",
       "      <td>6.000000</td>\n",
       "      <td>3.000000</td>\n",
       "    </tr>\n",
       "  </tbody>\n",
       "</table>\n",
       "</div>"
      ],
      "text/plain": [
       "       raw_row_number  subject_age  department_id  vehicle_year  \\\n",
       "count    1.000000e+05    75.000000  100000.000000  99894.000000   \n",
       "mean     6.363389e+06    33.213333   13489.823710   2005.272579   \n",
       "std      3.684847e+06    12.682498     350.529826      6.860235   \n",
       "min      1.300000e+01    17.000000   10011.000000   1900.000000   \n",
       "25%      3.179948e+06    25.000000   13194.000000   2001.000000   \n",
       "50%      6.355212e+06    29.000000   13439.000000   2006.000000   \n",
       "75%      9.563472e+06    38.000000   13864.000000   2010.000000   \n",
       "max      1.274792e+07    78.000000   14150.000000   2018.000000   \n",
       "\n",
       "       raw_DriverRace  raw_ReasonForStop  raw_TypeOfMovingViolation  \\\n",
       "count   100000.000000      100000.000000              100000.000000   \n",
       "mean         1.798940           1.458280                   1.640210   \n",
       "std          7.815235           0.735082                   1.898557   \n",
       "min          1.000000           1.000000                   0.000000   \n",
       "25%          1.000000           1.000000                   0.000000   \n",
       "50%          1.000000           1.000000                   1.000000   \n",
       "75%          2.000000           2.000000                   2.000000   \n",
       "max        999.000000           4.000000                   6.000000   \n",
       "\n",
       "       raw_ResultOfStop  \n",
       "count     100000.000000  \n",
       "mean           1.756950  \n",
       "std            0.795904  \n",
       "min            1.000000  \n",
       "25%            1.000000  \n",
       "50%            2.000000  \n",
       "75%            2.000000  \n",
       "max            3.000000  "
      ]
     },
     "execution_count": 7,
     "metadata": {},
     "output_type": "execute_result"
    }
   ],
   "source": [
    "data.describe()"
   ]
  },
  {
   "cell_type": "markdown",
   "id": "3e33564b",
   "metadata": {},
   "source": [
    "# Data Cleaning and Preprocessing"
   ]
  },
  {
   "cell_type": "markdown",
   "id": "f6a244b7",
   "metadata": {},
   "source": [
    "First, we remove the variables that are not necessary for our analysis.\n",
    "\n",
    "* <b>raw_row_number:</b> not necessary for our anaylsis, as we are able to use the index values\n",
    "* <b>type:</b> all values in this table are 'vehicular'\n",
    "* <b>department_name:</b> department_id (another variable in the data) gives the same information."
   ]
  },
  {
   "cell_type": "code",
   "execution_count": 8,
   "id": "32868356",
   "metadata": {},
   "outputs": [],
   "source": [
    "data = data.drop(['raw_row_number', 'type', 'department_name'], 1)"
   ]
  },
  {
   "cell_type": "markdown",
   "id": "f5fccf42",
   "metadata": {},
   "source": [
    "Next, we find which variables are missing values."
   ]
  },
  {
   "cell_type": "code",
   "execution_count": 9,
   "id": "1281b491",
   "metadata": {},
   "outputs": [],
   "source": [
    "def missing_values_table(df):\n",
    "    mis_val = df.isnull().sum()\n",
    "    mis_val_percent = 100 * df.isnull().sum() / len(df)\n",
    "    mis_val_table = pd.concat([mis_val, mis_val_percent], axis=1)\n",
    "    mis_val_table_ren_columns = mis_val_table.rename(\n",
    "    columns = {0 : 'Missing Values', 1 : '% of Total Values'})\n",
    "    mis_val_table_ren_columns = mis_val_table_ren_columns[\n",
    "        mis_val_table_ren_columns.iloc[:,1] != 0].sort_values(\n",
    "    '% of Total Values', ascending=False).round(1)\n",
    "    print (\"The dataframe has \" + str(df.shape[1]) + \" columns.\\n\"      \n",
    "        \"There are \" + str(mis_val_table_ren_columns.shape[0]) +\n",
    "            \" columns that have missing values.\")\n",
    "    return mis_val_table_ren_columns"
   ]
  },
  {
   "cell_type": "code",
   "execution_count": 10,
   "id": "83c0d496",
   "metadata": {},
   "outputs": [
    {
     "name": "stdout",
     "output_type": "stream",
     "text": [
      "The dataframe has 26 columns.\n",
      "There are 15 columns that have missing values.\n"
     ]
    },
    {
     "data": {
      "text/html": [
       "<div>\n",
       "<style scoped>\n",
       "    .dataframe tbody tr th:only-of-type {\n",
       "        vertical-align: middle;\n",
       "    }\n",
       "\n",
       "    .dataframe tbody tr th {\n",
       "        vertical-align: top;\n",
       "    }\n",
       "\n",
       "    .dataframe thead th {\n",
       "        text-align: right;\n",
       "    }\n",
       "</style>\n",
       "<table border=\"1\" class=\"dataframe\">\n",
       "  <thead>\n",
       "    <tr style=\"text-align: right;\">\n",
       "      <th></th>\n",
       "      <th>Missing Values</th>\n",
       "      <th>% of Total Values</th>\n",
       "    </tr>\n",
       "  </thead>\n",
       "  <tbody>\n",
       "    <tr>\n",
       "      <th>subject_age</th>\n",
       "      <td>99925</td>\n",
       "      <td>99.9</td>\n",
       "    </tr>\n",
       "    <tr>\n",
       "      <th>search_basis</th>\n",
       "      <td>98484</td>\n",
       "      <td>98.5</td>\n",
       "    </tr>\n",
       "    <tr>\n",
       "      <th>contraband_found</th>\n",
       "      <td>95499</td>\n",
       "      <td>95.5</td>\n",
       "    </tr>\n",
       "    <tr>\n",
       "      <th>contraband_drugs</th>\n",
       "      <td>95499</td>\n",
       "      <td>95.5</td>\n",
       "    </tr>\n",
       "    <tr>\n",
       "      <th>contraband_weapons</th>\n",
       "      <td>95499</td>\n",
       "      <td>95.5</td>\n",
       "    </tr>\n",
       "    <tr>\n",
       "      <th>vehicle_make</th>\n",
       "      <td>2597</td>\n",
       "      <td>2.6</td>\n",
       "    </tr>\n",
       "    <tr>\n",
       "      <th>beat</th>\n",
       "      <td>1858</td>\n",
       "      <td>1.9</td>\n",
       "    </tr>\n",
       "    <tr>\n",
       "      <th>location</th>\n",
       "      <td>957</td>\n",
       "      <td>1.0</td>\n",
       "    </tr>\n",
       "    <tr>\n",
       "      <th>search_vehicle</th>\n",
       "      <td>141</td>\n",
       "      <td>0.1</td>\n",
       "    </tr>\n",
       "    <tr>\n",
       "      <th>search_conducted</th>\n",
       "      <td>138</td>\n",
       "      <td>0.1</td>\n",
       "    </tr>\n",
       "    <tr>\n",
       "      <th>search_person</th>\n",
       "      <td>138</td>\n",
       "      <td>0.1</td>\n",
       "    </tr>\n",
       "    <tr>\n",
       "      <th>vehicle_year</th>\n",
       "      <td>106</td>\n",
       "      <td>0.1</td>\n",
       "    </tr>\n",
       "    <tr>\n",
       "      <th>time</th>\n",
       "      <td>83</td>\n",
       "      <td>0.1</td>\n",
       "    </tr>\n",
       "    <tr>\n",
       "      <th>subject_race</th>\n",
       "      <td>6</td>\n",
       "      <td>0.0</td>\n",
       "    </tr>\n",
       "    <tr>\n",
       "      <th>subject_sex</th>\n",
       "      <td>4</td>\n",
       "      <td>0.0</td>\n",
       "    </tr>\n",
       "  </tbody>\n",
       "</table>\n",
       "</div>"
      ],
      "text/plain": [
       "                    Missing Values  % of Total Values\n",
       "subject_age                  99925               99.9\n",
       "search_basis                 98484               98.5\n",
       "contraband_found             95499               95.5\n",
       "contraband_drugs             95499               95.5\n",
       "contraband_weapons           95499               95.5\n",
       "vehicle_make                  2597                2.6\n",
       "beat                          1858                1.9\n",
       "location                       957                1.0\n",
       "search_vehicle                 141                0.1\n",
       "search_conducted               138                0.1\n",
       "search_person                  138                0.1\n",
       "vehicle_year                   106                0.1\n",
       "time                            83                0.1\n",
       "subject_race                     6                0.0\n",
       "subject_sex                      4                0.0"
      ]
     },
     "execution_count": 10,
     "metadata": {},
     "output_type": "execute_result"
    }
   ],
   "source": [
    "mv = missing_values_table(data)\n",
    "mv"
   ]
  },
  {
   "cell_type": "markdown",
   "id": "0df10217",
   "metadata": {},
   "source": [
    "Then, we remove feature columns that have over 95% missing values."
   ]
  },
  {
   "cell_type": "code",
   "execution_count": 11,
   "id": "b5607cb7",
   "metadata": {},
   "outputs": [
    {
     "name": "stdout",
     "output_type": "stream",
     "text": [
      "Columns missing over 95% of values: ['subject_age', 'search_basis', 'contraband_found', 'contraband_drugs', 'contraband_weapons']\n"
     ]
    }
   ],
   "source": [
    "over95 = list(pd.DataFrame(mv[mv['% of Total Values'] > 95].any(1)).index)\n",
    "print('Columns missing over 95% of values:',over95)"
   ]
  },
  {
   "cell_type": "code",
   "execution_count": 12,
   "id": "3d5968a3",
   "metadata": {},
   "outputs": [],
   "source": [
    "data = data.drop(over95, 1)"
   ]
  },
  {
   "cell_type": "markdown",
   "id": "53d500d0",
   "metadata": {},
   "source": [
    "Remove the rows that do not have outcome, as this is an important target variable. "
   ]
  },
  {
   "cell_type": "code",
   "execution_count": 13,
   "id": "6f3bfa17",
   "metadata": {},
   "outputs": [],
   "source": [
    "data = data[data['outcome'].notna()]"
   ]
  },
  {
   "cell_type": "markdown",
   "id": "1211c1b6",
   "metadata": {},
   "source": [
    "Format the variables according to their type."
   ]
  },
  {
   "cell_type": "code",
   "execution_count": 14,
   "id": "7219db20",
   "metadata": {},
   "outputs": [],
   "source": [
    "data['search_person'] = data['search_person'].astype('bool')\n",
    "data['search_vehicle'] = data['search_vehicle'].astype('bool')\n",
    "data['search_person'] = data['search_person'].astype('bool')\n",
    "data[\"time\"]= pd.to_datetime(data[\"time\"])\n",
    "data[\"date\"]= pd.to_datetime(data[\"date\"])\n",
    "data['outcome'] = data['outcome'].astype('str')\n",
    "data['location'] = data['location'].astype('str')\n",
    "data['violation'] = data['violation'].astype('str')"
   ]
  },
  {
   "cell_type": "code",
   "execution_count": 15,
   "id": "c3b6f3f4",
   "metadata": {},
   "outputs": [
    {
     "data": {
      "text/plain": [
       "21"
      ]
     },
     "execution_count": 15,
     "metadata": {},
     "output_type": "execute_result"
    }
   ],
   "source": [
    "len(data.columns)"
   ]
  },
  {
   "cell_type": "code",
   "execution_count": 16,
   "id": "a1fc63a3",
   "metadata": {},
   "outputs": [
    {
     "data": {
      "text/plain": [
       "date                         datetime64[ns]\n",
       "time                         datetime64[ns]\n",
       "location                             object\n",
       "beat                                 object\n",
       "subject_race                         object\n",
       "subject_sex                          object\n",
       "department_id                       float64\n",
       "violation                            object\n",
       "citation_issued                        bool\n",
       "warning_issued                         bool\n",
       "outcome                              object\n",
       "search_conducted                     object\n",
       "search_person                          bool\n",
       "search_vehicle                         bool\n",
       "reason_for_stop                      object\n",
       "vehicle_make                         object\n",
       "vehicle_year                        float64\n",
       "raw_DriverRace                        int64\n",
       "raw_ReasonForStop                     int64\n",
       "raw_TypeOfMovingViolation             int64\n",
       "raw_ResultOfStop                      int64\n",
       "dtype: object"
      ]
     },
     "execution_count": 16,
     "metadata": {},
     "output_type": "execute_result"
    }
   ],
   "source": [
    "data.dtypes"
   ]
  },
  {
   "cell_type": "markdown",
   "id": "876d0bb1",
   "metadata": {},
   "source": [
    "Create dummy variables for race and sex."
   ]
  },
  {
   "cell_type": "code",
   "execution_count": 17,
   "id": "535e3ecd",
   "metadata": {},
   "outputs": [],
   "source": [
    "data_dummies_race = pd.get_dummies(data['subject_race'])\n",
    "data = data.join(data_dummies_race)"
   ]
  },
  {
   "cell_type": "code",
   "execution_count": 18,
   "id": "ab19f675",
   "metadata": {},
   "outputs": [],
   "source": [
    "data_dummies_sex = pd.get_dummies(data['subject_sex'])\n",
    "data.drop(['subject_sex'],axis=1,inplace=True)\n",
    "data = data.join(data_dummies_sex)"
   ]
  },
  {
   "cell_type": "markdown",
   "id": "a9adca4a",
   "metadata": {},
   "source": [
    "Use SimpleImputer to impute missing values."
   ]
  },
  {
   "cell_type": "code",
   "execution_count": 19,
   "id": "4650dcdf",
   "metadata": {},
   "outputs": [],
   "source": [
    "columns = data.columns.tolist()"
   ]
  },
  {
   "cell_type": "code",
   "execution_count": 20,
   "id": "ebe25cf5",
   "metadata": {},
   "outputs": [],
   "source": [
    "imputer = SimpleImputer(missing_values = np.nan,\n",
    "                        strategy ='most_frequent')\n",
    "imputer = imputer.fit(data)\n",
    "data = imputer.transform(data)\n",
    "data = pd.DataFrame(data, columns = columns)"
   ]
  },
  {
   "cell_type": "markdown",
   "id": "71127807",
   "metadata": {},
   "source": [
    "Remove duplicative race column."
   ]
  },
  {
   "cell_type": "code",
   "execution_count": 21,
   "id": "b74ce130",
   "metadata": {},
   "outputs": [],
   "source": [
    "data = data.drop('raw_DriverRace', 1)"
   ]
  },
  {
   "cell_type": "markdown",
   "id": "64cc6ae5",
   "metadata": {},
   "source": [
    "Format target variables to be 0 and 1 (as opposed to boolean)"
   ]
  },
  {
   "cell_type": "code",
   "execution_count": 22,
   "id": "c2169663",
   "metadata": {},
   "outputs": [],
   "source": [
    "data[\"search_conducted\"] = data[\"search_conducted\"].astype(int)\n",
    "data['citation_issued'] = data['citation_issued'].astype(int)"
   ]
  },
  {
   "cell_type": "markdown",
   "id": "4fc71445",
   "metadata": {},
   "source": [
    "Check to see if any data errors (as in there is a row with both warning and citation used or neither)."
   ]
  },
  {
   "cell_type": "code",
   "execution_count": 23,
   "id": "0a8ecf43",
   "metadata": {},
   "outputs": [
    {
     "data": {
      "text/plain": [
       "0    53221\n",
       "1    46779\n",
       "Name: citation_issued, dtype: int64"
      ]
     },
     "execution_count": 23,
     "metadata": {},
     "output_type": "execute_result"
    }
   ],
   "source": [
    "data['citation_issued'].value_counts()"
   ]
  },
  {
   "cell_type": "code",
   "execution_count": 24,
   "id": "9bfed454",
   "metadata": {},
   "outputs": [
    {
     "data": {
      "text/plain": [
       "True     53221\n",
       "False    46779\n",
       "Name: warning_issued, dtype: int64"
      ]
     },
     "execution_count": 24,
     "metadata": {},
     "output_type": "execute_result"
    }
   ],
   "source": [
    "data['warning_issued'].value_counts()"
   ]
  },
  {
   "cell_type": "code",
   "execution_count": 25,
   "id": "b0097b5f",
   "metadata": {},
   "outputs": [
    {
     "data": {
      "text/plain": [
       "warning     53221\n",
       "citation    46779\n",
       "Name: outcome, dtype: int64"
      ]
     },
     "execution_count": 25,
     "metadata": {},
     "output_type": "execute_result"
    }
   ],
   "source": [
    "data['outcome'].value_counts()"
   ]
  },
  {
   "cell_type": "markdown",
   "id": "95435a80",
   "metadata": {},
   "source": [
    "There is not, so we can remove the duplicative columns and just use the target variable column. We will use the column 'citation', which has 1 for True and 0 for False, as our target outcome variable."
   ]
  },
  {
   "cell_type": "code",
   "execution_count": 26,
   "id": "fd688ff1",
   "metadata": {},
   "outputs": [],
   "source": [
    "data = data.drop(['warning_issued', 'outcome'], 1)"
   ]
  },
  {
   "cell_type": "markdown",
   "id": "ae41022e",
   "metadata": {},
   "source": [
    "Remove duplicative column."
   ]
  },
  {
   "cell_type": "markdown",
   "id": "5de712bd",
   "metadata": {},
   "source": [
    "Create dummies for violation and reason columns and drop the raw columns."
   ]
  },
  {
   "cell_type": "code",
   "execution_count": 27,
   "id": "17bc436f",
   "metadata": {},
   "outputs": [],
   "source": [
    "data_dummies_violation = pd.get_dummies(data['violation'], prefix='violation')\n",
    "data.drop(['violation'],axis=1,inplace=True)\n",
    "data = data.join(data_dummies_violation)\n",
    "data = data.drop('raw_TypeOfMovingViolation', 1)"
   ]
  },
  {
   "cell_type": "code",
   "execution_count": 28,
   "id": "7650095a",
   "metadata": {},
   "outputs": [],
   "source": [
    "data_dummies_reason = pd.get_dummies(data['reason_for_stop'], prefix='reason_')\n",
    "data.drop(['reason_for_stop'],axis=1,inplace=True)\n",
    "data = data.join(data_dummies_reason)\n",
    "data = data.drop('raw_ResultOfStop', 1)"
   ]
  },
  {
   "cell_type": "markdown",
   "id": "5d7847ad",
   "metadata": {},
   "source": [
    "Create dummies for date column. Separate times into 8 time-of-day buckets (as was done in the paper I am assessing)."
   ]
  },
  {
   "cell_type": "code",
   "execution_count": 29,
   "id": "5ff61bec",
   "metadata": {},
   "outputs": [],
   "source": [
    "data['time'] = (data['time'].dt.hour % 24 + 3) // 3\n",
    "data['time'].replace({1: 'Late Night',\n",
    "                      2: 'Early Morning',\n",
    "                      3: 'Morning',\n",
    "                      4: 'Late Morning',\n",
    "                      5: 'Noon',\n",
    "                      6: 'Late Afternoon',\n",
    "                      7: 'Evening',\n",
    "                      8: 'Night'}, inplace=True)"
   ]
  },
  {
   "cell_type": "code",
   "execution_count": 30,
   "id": "bec6e0bb",
   "metadata": {},
   "outputs": [],
   "source": [
    "data_dummies_time = pd.get_dummies(data['time'])\n",
    "data.drop(['time'],axis=1,inplace=True)\n",
    "data = data.join(data_dummies_time)"
   ]
  },
  {
   "cell_type": "markdown",
   "id": "e1be6c85",
   "metadata": {},
   "source": [
    "Create dummies for whether the location is urban or rural and drop location variable.\n",
    "\n",
    "This process uses the US Post Office's designation of Zipcodes (zips.csv) and the USDA's designation of rural and urban (denoted as metro and non-metro) (ruralurbancodes2013.xls). "
   ]
  },
  {
   "cell_type": "code",
   "execution_count": 31,
   "id": "db9b557e",
   "metadata": {},
   "outputs": [],
   "source": [
    "zipcodes = pd.read_excel('./ruralurbancodes2013.xls')\n",
    "zipcodes = zipcodes.loc[zipcodes['State'] == 'IL']\n",
    "zipcodes['rural'] = zipcodes['Description'].str.contains('Nonmetro')\n",
    "zipcodes = zipcodes[['County_Name', 'rural']]\n",
    "\n",
    "zips = pd.read_csv('./zips.csv')\n",
    "zips = zips.loc[zips['state'] == 'IL']\n",
    "\n",
    "zipcodes = zipcodes.merge(zips, left_on='County_Name', right_on='county')\n",
    "zipcodes = zipcodes[['rural', 'zip']]\n",
    "\n",
    "rural = zipcodes.loc[zipcodes['rural']== False]\n",
    "\n",
    "rural_list = rural['zip'].tolist()\n",
    "rural_list = list(map(str, rural_list))\n",
    "\n",
    "data[\"rural_or_not\"] = np.where(data[\"location\"].isin(rural_list), \"rural_location\", \"urban_location\")"
   ]
  },
  {
   "cell_type": "code",
   "execution_count": 32,
   "id": "fa14cc34",
   "metadata": {},
   "outputs": [],
   "source": [
    "data_dummies_rural = pd.get_dummies(data['rural_or_not'])\n",
    "data.drop(['rural_or_not'],axis=1,inplace=True)\n",
    "data = data.join(data_dummies_rural)\n",
    "data = data.drop(['location'], 1)"
   ]
  },
  {
   "cell_type": "markdown",
   "id": "7dd536cf",
   "metadata": {},
   "source": [
    "Create season of the year dummies and drop date variable."
   ]
  },
  {
   "cell_type": "code",
   "execution_count": 33,
   "id": "eea314e3",
   "metadata": {},
   "outputs": [],
   "source": [
    "data['season'] = (data['date'].dt.month - 1) // 3\n",
    "data['season'].replace({1: 'Spring',\n",
    "                      2: 'Summer',\n",
    "                      3: 'Fall',\n",
    "                      0: 'Winter'}, inplace=True)"
   ]
  },
  {
   "cell_type": "code",
   "execution_count": 34,
   "id": "d7849fbe",
   "metadata": {},
   "outputs": [],
   "source": [
    "data_dummies_season = pd.get_dummies(data['season'])\n",
    "data.drop(['season'],axis=1,inplace=True)\n",
    "data = data.join(data_dummies_season)\n",
    "data = data.drop('date', 1)"
   ]
  },
  {
   "cell_type": "markdown",
   "id": "cdf03b5c",
   "metadata": {},
   "source": [
    "# Overview of Task"
   ]
  },
  {
   "cell_type": "markdown",
   "id": "d6404785",
   "metadata": {},
   "source": [
    "<b>\"A large-scale analysis of racial disparities in police stops across the United States\" (2020)</b> uses data from the Stanford Open Policing Project to assess racial disparities in police interactions with the public. They compiled and analyzed a dataset detailing over 60 million state patrol stops conducted in 20 U.S. states.\n",
    "https://5harad.com/papers/traffic-stops.pdf\n",
    "\n",
    "In their analysis, Pierson, et al. has <b>five main conclusions</b>:\n",
    "\n",
    "1. <b>Among stopped drivers—and after controlling for age, gender, time, and location—\n",
    "blacks and Hispanics are more likely to be ticketed than white drivers.</b>\n",
    "2. <b>Among stopped drivers—and after controlling for age, gender, time, and location—\n",
    "blacks and Hispanics are more likely to be <b>searched</b> than white drivers.</b>\n",
    "3. Among stopped drivers—and after controlling for age, gender, time, and location—\n",
    "blacks and Hispanics are more likely to be arrested than white drivers.\n",
    "4. In the case of search decisions, we explicitly test for discrimination by examining both\n",
    "the rate at which drivers are searched and the likelihood searches turn up contraband. We find\n",
    "evidence that the bar for searching black and Hispanic drivers is lower than for searching whites.\n",
    "5. Finally, we find that legalizing recreational marijuana in Washington and Colorado reduced the\n",
    "total number of searches and misdemeanors for all race groups, though a race gap still persists.\n",
    "\n",
    "I seek to recreate their results, focusing specifically on Illinois. Given data constaints, I am unable to test conclusions 3 through 5, as the dataset does not include arrests or contraband information, and the dataset does not cover 2020, which is when Illinois legalized marijuana.\n",
    "\n",
    "The original authors of the paper used logistic regression. For my analysis of conclusions 1 and 2, I recreate their logistic regression results and compare my logistic regression model to two other classification models: Linear SVC and SGD Classifier.\n"
   ]
  },
  {
   "cell_type": "markdown",
   "id": "5cc87f4d",
   "metadata": {},
   "source": [
    "## Conclusion 1: Black and Hispanic drivers are more likely to be ticketed (given a citation instead of a warning) than white drivers?"
   ]
  },
  {
   "cell_type": "markdown",
   "id": "b4203a16",
   "metadata": {},
   "source": [
    "In Pierson et al's analysis, they controlled for age, sex, race, location, and date. Their target variable for this conclusion is whether or not the driver was given a citation (as opposed to a warning)."
   ]
  },
  {
   "cell_type": "markdown",
   "id": "24ba4aa2",
   "metadata": {},
   "source": [
    "First, I began by looking at the raw data. I plotted the different rates of citation-issued versus not (with higher percentages denoting more likelihood to receive a citation (ticket) as opposed to getting off with a warning) on a factor plot and a bar plot. We can see that, without controlling for any varibales, Black and Hispanic drivers have higher raw percentages of receiving a citation. This matches the findings that Pierson et al detail in the paper."
   ]
  },
  {
   "cell_type": "code",
   "execution_count": 35,
   "id": "0512199b",
   "metadata": {},
   "outputs": [
    {
     "data": {
      "image/png": "[encoded data removed]",
      "text/plain": [
       "<Figure size 360x360 with 1 Axes>"
      ]
     },
     "metadata": {},
     "output_type": "display_data"
    }
   ],
   "source": [
    "sns.factorplot('subject_race','citation_issued',order=['white', 'black', 'hispanic'],data=data,size=5);"
   ]
  },
  {
   "cell_type": "code",
   "execution_count": 36,
   "id": "3e2aeb85",
   "metadata": {},
   "outputs": [
    {
     "data": {
      "image/png": "[encoded data removed]",
      "text/plain": [
       "<Figure size 1080x720 with 2 Axes>"
      ]
     },
     "metadata": {},
     "output_type": "display_data"
    }
   ],
   "source": [
    "fig, (ax1,ax2) = plt.subplots(1,2,figsize=(15,10))\n",
    "\n",
    "sns.countplot(x='subject_race', data=data, ax=ax1, order=['white','black','hispanic', 'asian/pacific islander', 'other'])\n",
    "race = data[[\"subject_race\", \"citation_issued\"]]\n",
    "sns.barplot(x='subject_race', y='citation_issued', data=race, ax=ax2, order=['white','black','hispanic']);"
   ]
  },
  {
   "cell_type": "markdown",
   "id": "628a19ab",
   "metadata": {},
   "source": [
    "Next, I begin to run my models to determine feature importance for the classification of citation or no citation. I first list the features that I have available in the dataset. Because I preprocessed the information previously, the data related to this features can be used in my classification model."
   ]
  },
  {
   "cell_type": "code",
   "execution_count": 37,
   "id": "88a935ab",
   "metadata": {},
   "outputs": [],
   "source": [
    "features = [\n",
    "       'search_conducted', 'search_person', 'search_vehicle', 'department_id',\n",
    "       'vehicle_year', 'raw_ReasonForStop',\n",
    "       'asian/pacific islander', 'black', 'hispanic',\n",
    "       'other', 'white', 'female', 'male', 'violation_Equipment', 'violation_Commercial Vehicle','violation_License Plate/Registration',\n",
    "       'violation_Moving Violation: Follow too close',\n",
    "       'violation_Moving Violation: Lane Violation',\n",
    "       'violation_Moving Violation: Other',\n",
    "       'violation_Moving Violation: Seat Belt',\n",
    "       'violation_Moving Violation: Speed',\n",
    "       'violation_Moving Violation: Traffic Sign or Signal', 'Early Morning', 'Evening',\n",
    "       'Late Afternoon', 'Late Morning', 'Late Night', 'Morning', 'Night',\n",
    "       'Noon', 'rural_location', 'urban_location', 'Fall', 'Spring', 'Summer',\n",
    "       'Winter', 'reason__License Plate/Registration']"
   ]
  },
  {
   "cell_type": "markdown",
   "id": "2ec71183",
   "metadata": {},
   "source": [
    "Next I begin to fit and evaluate my models on my data. The goal of this classification is to see if the the feature variable 'white' (denoting the subject's race) is more negative (or less positive) than the features 'hispanic' and 'black' that denote Hispanic and Black drivers respectively."
   ]
  },
  {
   "cell_type": "markdown",
   "id": "5561ac91",
   "metadata": {},
   "source": [
    "<b>Target Variable for Task 1:</b> dummy variable: citation (0 for warning, 1 for citation)"
   ]
  },
  {
   "cell_type": "code",
   "execution_count": 38,
   "id": "07a9aa05",
   "metadata": {},
   "outputs": [],
   "source": [
    "X = np.array(data[features]) \n",
    "y = np.array(data['citation_issued'])"
   ]
  },
  {
   "cell_type": "code",
   "execution_count": 39,
   "id": "604429f3",
   "metadata": {},
   "outputs": [],
   "source": [
    "from sklearn.model_selection import train_test_split\n",
    "X_train, X_test, y_train, y_test = train_test_split(\n",
    "    X, y, test_size=0.30, random_state=42)"
   ]
  },
  {
   "cell_type": "markdown",
   "id": "859f7b85",
   "metadata": {},
   "source": [
    "### Logistic Regression"
   ]
  },
  {
   "cell_type": "markdown",
   "id": "8aadff7d",
   "metadata": {},
   "source": [
    "#### Find Penalty and C-value that maximizes test score."
   ]
  },
  {
   "cell_type": "code",
   "execution_count": 40,
   "id": "16d1bf70",
   "metadata": {},
   "outputs": [],
   "source": [
    "from sklearn.model_selection import RandomizedSearchCV\n",
    "from scipy.stats import uniform"
   ]
  },
  {
   "cell_type": "code",
   "execution_count": 41,
   "id": "455d121a",
   "metadata": {},
   "outputs": [],
   "source": [
    "def compare_penalty_logit(X, y):\n",
    "    \"\"\"\n",
    "    X_data: 2D feature matrix\n",
    "    y_data: 1D array containing the class labels\n",
    "    return: \n",
    "        a dataframe comparing logistical regression penalty scores\n",
    "    \"\"\"\n",
    "    results = []\n",
    "    \n",
    "    X_train, X_test, y_train, y_test = train_test_split(\n",
    "        X, y, test_size=0.30, random_state=42)\n",
    "    \n",
    "    scaler = StandardScaler()\n",
    "    X_train_std = scaler.fit_transform(X_train)\n",
    "    X_test_std = scaler.transform(X_test)\n",
    "    \n",
    "    \n",
    "    for p in (['none','l1', 'l2']):\n",
    "        effect = {}\n",
    "        clf = LogisticRegression(penalty=p, solver='saga',\n",
    "                                 max_iter=1000, random_state=42)\n",
    "        clf.fit(X_train_std, y_train)\n",
    "        \n",
    "        effect['min'] = float(\"%.3f\" % clf.coef_[0].min())\n",
    "        effect['max'] = float(\"%.3f\" % clf.coef_[0].max())\n",
    "        effect['mean_abs'] = float(\"%.3f\" % np.abs(clf.coef_[0]).mean())\n",
    "        effect['n_zero'] = np.sum(clf.coef_[0] == 0)\n",
    "        effect['test_score'] = float(\"%.3f\" % clf.score(X_test_std, y_test))\n",
    "        \n",
    "        results.append(effect)\n",
    "        \n",
    "    return pd.DataFrame(results).rename(index={0: 'none', 1:'l1', \n",
    "                                                        2: 'l2'})"
   ]
  },
  {
   "cell_type": "code",
   "execution_count": 42,
   "id": "a4ac79db",
   "metadata": {},
   "outputs": [],
   "source": [
    "def compare_c_logit(X_data, y_data, s='saga', p='l2'):\n",
    "    \"\"\"\n",
    "    X_data: 2D feature matrix\n",
    "    y_data: 1D array containing the class labels\n",
    "    return: \n",
    "        a dataframe comparing logistical regression c scores\n",
    "    \"\"\"\n",
    "    results = []\n",
    "    \n",
    "    X_train, X_test, y_train, y_test = train_test_split(\n",
    "    X_data, y_data, test_size=0.30, random_state=42)\n",
    "    \n",
    "    scaler = StandardScaler()\n",
    "    X_train_std = scaler.fit_transform(X_train)\n",
    "    X_test_std = scaler.transform(X_test)\n",
    "    \n",
    "    for c in [0.001, 0.01, 0.1, 1, 10, 100]:\n",
    "        effect = {}\n",
    "        clf = LogisticRegression(penalty=p, solver='saga', C = c, max_iter=1000, random_state=42)\n",
    "        \n",
    "        clf.fit(X_train_std, y_train)\n",
    "        \n",
    "        effect['c'] = c\n",
    "        effect['min'] = float(\"%.3f\" % clf.coef_[0].min())\n",
    "        effect['max'] = float(\"%.3f\" % clf.coef_[0].max())\n",
    "        effect['mean_abs'] = float(\"%.3f\" % np.abs(clf.coef_[0]).mean())\n",
    "        effect['n_zero'] = np.sum(clf.coef_[0] == 0)\n",
    "        effect['test_score'] = float(\"%.3f\" % clf.score(X_test_std, y_test))\n",
    "\n",
    "        results.append(effect)\n",
    "    \n",
    "    return pd.DataFrame(results)"
   ]
  },
  {
   "cell_type": "code",
   "execution_count": 43,
   "id": "15126cf5",
   "metadata": {},
   "outputs": [
    {
     "data": {
      "text/html": [
       "<div>\n",
       "<style scoped>\n",
       "    .dataframe tbody tr th:only-of-type {\n",
       "        vertical-align: middle;\n",
       "    }\n",
       "\n",
       "    .dataframe tbody tr th {\n",
       "        vertical-align: top;\n",
       "    }\n",
       "\n",
       "    .dataframe thead th {\n",
       "        text-align: right;\n",
       "    }\n",
       "</style>\n",
       "<table border=\"1\" class=\"dataframe\">\n",
       "  <thead>\n",
       "    <tr style=\"text-align: right;\">\n",
       "      <th></th>\n",
       "      <th>min</th>\n",
       "      <th>max</th>\n",
       "      <th>mean_abs</th>\n",
       "      <th>n_zero</th>\n",
       "      <th>test_score</th>\n",
       "    </tr>\n",
       "  </thead>\n",
       "  <tbody>\n",
       "    <tr>\n",
       "      <th>none</th>\n",
       "      <td>-1.539</td>\n",
       "      <td>0.282</td>\n",
       "      <td>0.217</td>\n",
       "      <td>0</td>\n",
       "      <td>0.616</td>\n",
       "    </tr>\n",
       "    <tr>\n",
       "      <th>l1</th>\n",
       "      <td>-0.361</td>\n",
       "      <td>0.288</td>\n",
       "      <td>0.082</td>\n",
       "      <td>5</td>\n",
       "      <td>0.616</td>\n",
       "    </tr>\n",
       "    <tr>\n",
       "      <th>l2</th>\n",
       "      <td>-0.695</td>\n",
       "      <td>0.282</td>\n",
       "      <td>0.126</td>\n",
       "      <td>0</td>\n",
       "      <td>0.616</td>\n",
       "    </tr>\n",
       "  </tbody>\n",
       "</table>\n",
       "</div>"
      ],
      "text/plain": [
       "        min    max  mean_abs  n_zero  test_score\n",
       "none -1.539  0.282     0.217       0       0.616\n",
       "l1   -0.361  0.288     0.082       5       0.616\n",
       "l2   -0.695  0.282     0.126       0       0.616"
      ]
     },
     "execution_count": 43,
     "metadata": {},
     "output_type": "execute_result"
    }
   ],
   "source": [
    "compare_penalty_logit(X, y)"
   ]
  },
  {
   "cell_type": "markdown",
   "id": "2a3dcc14",
   "metadata": {},
   "source": [
    "All have the same test score, so select the least-complex model (5 features eliminated in feature selection with L1 penalty)."
   ]
  },
  {
   "cell_type": "code",
   "execution_count": 44,
   "id": "76c86464",
   "metadata": {},
   "outputs": [
    {
     "data": {
      "text/html": [
       "<div>\n",
       "<style scoped>\n",
       "    .dataframe tbody tr th:only-of-type {\n",
       "        vertical-align: middle;\n",
       "    }\n",
       "\n",
       "    .dataframe tbody tr th {\n",
       "        vertical-align: top;\n",
       "    }\n",
       "\n",
       "    .dataframe thead th {\n",
       "        text-align: right;\n",
       "    }\n",
       "</style>\n",
       "<table border=\"1\" class=\"dataframe\">\n",
       "  <thead>\n",
       "    <tr style=\"text-align: right;\">\n",
       "      <th></th>\n",
       "      <th>c</th>\n",
       "      <th>min</th>\n",
       "      <th>max</th>\n",
       "      <th>mean_abs</th>\n",
       "      <th>n_zero</th>\n",
       "      <th>test_score</th>\n",
       "    </tr>\n",
       "  </thead>\n",
       "  <tbody>\n",
       "    <tr>\n",
       "      <th>0</th>\n",
       "      <td>0.001</td>\n",
       "      <td>-0.180</td>\n",
       "      <td>0.201</td>\n",
       "      <td>0.031</td>\n",
       "      <td>20</td>\n",
       "      <td>0.615</td>\n",
       "    </tr>\n",
       "    <tr>\n",
       "      <th>1</th>\n",
       "      <td>0.010</td>\n",
       "      <td>-0.195</td>\n",
       "      <td>0.285</td>\n",
       "      <td>0.059</td>\n",
       "      <td>10</td>\n",
       "      <td>0.617</td>\n",
       "    </tr>\n",
       "    <tr>\n",
       "      <th>2</th>\n",
       "      <td>0.100</td>\n",
       "      <td>-0.202</td>\n",
       "      <td>0.288</td>\n",
       "      <td>0.063</td>\n",
       "      <td>8</td>\n",
       "      <td>0.616</td>\n",
       "    </tr>\n",
       "    <tr>\n",
       "      <th>3</th>\n",
       "      <td>1.000</td>\n",
       "      <td>-0.361</td>\n",
       "      <td>0.288</td>\n",
       "      <td>0.082</td>\n",
       "      <td>5</td>\n",
       "      <td>0.616</td>\n",
       "    </tr>\n",
       "    <tr>\n",
       "      <th>4</th>\n",
       "      <td>10.000</td>\n",
       "      <td>-1.379</td>\n",
       "      <td>0.282</td>\n",
       "      <td>0.189</td>\n",
       "      <td>3</td>\n",
       "      <td>0.616</td>\n",
       "    </tr>\n",
       "    <tr>\n",
       "      <th>5</th>\n",
       "      <td>100.000</td>\n",
       "      <td>-1.522</td>\n",
       "      <td>0.282</td>\n",
       "      <td>0.214</td>\n",
       "      <td>1</td>\n",
       "      <td>0.616</td>\n",
       "    </tr>\n",
       "  </tbody>\n",
       "</table>\n",
       "</div>"
      ],
      "text/plain": [
       "         c    min    max  mean_abs  n_zero  test_score\n",
       "0    0.001 -0.180  0.201     0.031      20       0.615\n",
       "1    0.010 -0.195  0.285     0.059      10       0.617\n",
       "2    0.100 -0.202  0.288     0.063       8       0.616\n",
       "3    1.000 -0.361  0.288     0.082       5       0.616\n",
       "4   10.000 -1.379  0.282     0.189       3       0.616\n",
       "5  100.000 -1.522  0.282     0.214       1       0.616"
      ]
     },
     "execution_count": 44,
     "metadata": {},
     "output_type": "execute_result"
    }
   ],
   "source": [
    "compare_c_logit(X, y, p='l1', s='saga')"
   ]
  },
  {
   "cell_type": "markdown",
   "id": "017c1fcf",
   "metadata": {},
   "source": [
    "#### Run model."
   ]
  },
  {
   "cell_type": "code",
   "execution_count": 45,
   "id": "18767502",
   "metadata": {},
   "outputs": [],
   "source": [
    "def Logit(dataset, target, p, c):\n",
    "    X = np.array(dataset[features]) \n",
    "    y = np.array(dataset[target])\n",
    "    logreg = LogisticRegression(penalty=p, C=c, tol = 0.1, solver='saga')\n",
    "    X_train, X_test, y_train, y_test = train_test_split(X, y, random_state=42)\n",
    "    pipe = make_pipeline(StandardScaler(), logreg)\n",
    "    pipe.fit(X_train, y_train)\n",
    "\n",
    "    cv = KFold(n_splits=(10))\n",
    "    scores = cross_val_score(pipe, X_train, y_train, cv = cv, scoring='f1')\n",
    "    print(\"10-fold CV F1 score: {:.3f} +/- {:.3f}\".format(np.mean(scores), np.std(scores)))\n",
    "    \n",
    "    scores2 = cross_val_score(pipe, X_train, y_train, cv = cv, scoring='roc_auc')\n",
    "    print(\"10-fold CV ROC_AUC score: {:.3f} +/- {:.3f}\".format(np.mean(scores2), np.std(scores2)))\n",
    "    \n",
    "    X_total = np.array(data[features]) \n",
    "    y_total = np.array(data[target])\n",
    "    X_train_total, X_test_total, y_train_total, y_test_total = train_test_split(X_total, y_total, random_state=42)\n",
    "\n",
    "    y_pred = pipe.predict(X_test_total)\n",
    "    \n",
    "    prfs = list(precision_recall_fscore_support(y_test_total, y_pred, average='weighted'))\n",
    "    perf = ['Logistic Regression', roc_auc_score(y_test_total, y_pred), accuracy_score(y_test_total, y_pred)]\n",
    "    perf.extend(prfs[:-1])\n",
    "    \n",
    "    y_pred = pipe.predict(X_test)\n",
    "    cm = confusion_matrix(y_test, y_pred)\n",
    "    disp = ConfusionMatrixDisplay(confusion_matrix=cm, display_labels=logreg.classes_)\n",
    "    \n",
    "    coeff_df = pd.DataFrame(features)\n",
    "    coeff_df.columns = ['Features']\n",
    "    coeff_df[\"Coefficient\"] = pd.Series(logreg.coef_[0])\n",
    "\n",
    "    # preview\n",
    "    coeff_df.sort_values(by='Coefficient', inplace=True)\n",
    "    \n",
    "    fig, ax = plt.subplots(figsize=(6,12))\n",
    "    l = len(features)\n",
    "    ax.barh(range(l), coeff_df.Coefficient)\n",
    "    ax.set_xlabel(\"Feature importance\")\n",
    "    ax.set_ylabel(\"Feature coefficient\")\n",
    "    ax.set_yticks(range(l))\n",
    "    y_lb = ax.set_yticklabels(coeff_df.Features)\n",
    "    \n",
    "    return coeff_df, tuple(perf), disp\n",
    "    "
   ]
  },
  {
   "cell_type": "code",
   "execution_count": 46,
   "id": "941886dd",
   "metadata": {},
   "outputs": [
    {
     "name": "stdout",
     "output_type": "stream",
     "text": [
      "10-fold CV F1 score: 0.572 +/- 0.009\n",
      "10-fold CV ROC_AUC score: 0.666 +/- 0.007\n"
     ]
    },
    {
     "data": {
      "image/png": "[encoded data removed]",
      "text/plain": [
       "<Figure size 432x864 with 1 Axes>"
      ]
     },
     "metadata": {},
     "output_type": "display_data"
    }
   ],
   "source": [
    "df, logit_perf, logit_disp = Logit(data, 'citation_issued', p='l1', c=0.01)"
   ]
  },
  {
   "cell_type": "code",
   "execution_count": 47,
   "id": "ea1f2800",
   "metadata": {},
   "outputs": [
    {
     "data": {
      "text/html": [
       "<div>\n",
       "<style scoped>\n",
       "    .dataframe tbody tr th:only-of-type {\n",
       "        vertical-align: middle;\n",
       "    }\n",
       "\n",
       "    .dataframe tbody tr th {\n",
       "        vertical-align: top;\n",
       "    }\n",
       "\n",
       "    .dataframe thead th {\n",
       "        text-align: right;\n",
       "    }\n",
       "</style>\n",
       "<table border=\"1\" class=\"dataframe\">\n",
       "  <thead>\n",
       "    <tr style=\"text-align: right;\">\n",
       "      <th></th>\n",
       "      <th>Features</th>\n",
       "      <th>Coefficient</th>\n",
       "    </tr>\n",
       "  </thead>\n",
       "  <tbody>\n",
       "    <tr>\n",
       "      <th>13</th>\n",
       "      <td>violation_Equipment</td>\n",
       "      <td>-0.201954</td>\n",
       "    </tr>\n",
       "    <tr>\n",
       "      <th>28</th>\n",
       "      <td>Night</td>\n",
       "      <td>-0.148252</td>\n",
       "    </tr>\n",
       "    <tr>\n",
       "      <th>26</th>\n",
       "      <td>Late Night</td>\n",
       "      <td>-0.124868</td>\n",
       "    </tr>\n",
       "    <tr>\n",
       "      <th>23</th>\n",
       "      <td>Evening</td>\n",
       "      <td>-0.099902</td>\n",
       "    </tr>\n",
       "    <tr>\n",
       "      <th>17</th>\n",
       "      <td>violation_Moving Violation: Lane Violation</td>\n",
       "      <td>-0.099662</td>\n",
       "    </tr>\n",
       "    <tr>\n",
       "      <th>4</th>\n",
       "      <td>vehicle_year</td>\n",
       "      <td>-0.086320</td>\n",
       "    </tr>\n",
       "    <tr>\n",
       "      <th>10</th>\n",
       "      <td>white</td>\n",
       "      <td>-0.082560</td>\n",
       "    </tr>\n",
       "    <tr>\n",
       "      <th>14</th>\n",
       "      <td>violation_Commercial Vehicle</td>\n",
       "      <td>-0.048306</td>\n",
       "    </tr>\n",
       "    <tr>\n",
       "      <th>3</th>\n",
       "      <td>department_id</td>\n",
       "      <td>-0.045239</td>\n",
       "    </tr>\n",
       "    <tr>\n",
       "      <th>11</th>\n",
       "      <td>female</td>\n",
       "      <td>-0.038327</td>\n",
       "    </tr>\n",
       "    <tr>\n",
       "      <th>22</th>\n",
       "      <td>Early Morning</td>\n",
       "      <td>-0.027915</td>\n",
       "    </tr>\n",
       "    <tr>\n",
       "      <th>31</th>\n",
       "      <td>urban_location</td>\n",
       "      <td>-0.025237</td>\n",
       "    </tr>\n",
       "    <tr>\n",
       "      <th>32</th>\n",
       "      <td>Fall</td>\n",
       "      <td>-0.017704</td>\n",
       "    </tr>\n",
       "    <tr>\n",
       "      <th>16</th>\n",
       "      <td>violation_Moving Violation: Follow too close</td>\n",
       "      <td>-0.015334</td>\n",
       "    </tr>\n",
       "    <tr>\n",
       "      <th>21</th>\n",
       "      <td>violation_Moving Violation: Traffic Sign or Si...</td>\n",
       "      <td>-0.009315</td>\n",
       "    </tr>\n",
       "    <tr>\n",
       "      <th>5</th>\n",
       "      <td>raw_ReasonForStop</td>\n",
       "      <td>-0.002646</td>\n",
       "    </tr>\n",
       "    <tr>\n",
       "      <th>7</th>\n",
       "      <td>black</td>\n",
       "      <td>-0.001592</td>\n",
       "    </tr>\n",
       "    <tr>\n",
       "      <th>35</th>\n",
       "      <td>Winter</td>\n",
       "      <td>-0.000840</td>\n",
       "    </tr>\n",
       "    <tr>\n",
       "      <th>9</th>\n",
       "      <td>other</td>\n",
       "      <td>0.000000</td>\n",
       "    </tr>\n",
       "    <tr>\n",
       "      <th>15</th>\n",
       "      <td>violation_License Plate/Registration</td>\n",
       "      <td>0.000334</td>\n",
       "    </tr>\n",
       "    <tr>\n",
       "      <th>36</th>\n",
       "      <td>reason__License Plate/Registration</td>\n",
       "      <td>0.000334</td>\n",
       "    </tr>\n",
       "    <tr>\n",
       "      <th>34</th>\n",
       "      <td>Summer</td>\n",
       "      <td>0.000340</td>\n",
       "    </tr>\n",
       "    <tr>\n",
       "      <th>24</th>\n",
       "      <td>Late Afternoon</td>\n",
       "      <td>0.001514</td>\n",
       "    </tr>\n",
       "    <tr>\n",
       "      <th>2</th>\n",
       "      <td>search_vehicle</td>\n",
       "      <td>0.006866</td>\n",
       "    </tr>\n",
       "    <tr>\n",
       "      <th>0</th>\n",
       "      <td>search_conducted</td>\n",
       "      <td>0.009304</td>\n",
       "    </tr>\n",
       "    <tr>\n",
       "      <th>29</th>\n",
       "      <td>Noon</td>\n",
       "      <td>0.010540</td>\n",
       "    </tr>\n",
       "    <tr>\n",
       "      <th>6</th>\n",
       "      <td>asian/pacific islander</td>\n",
       "      <td>0.017811</td>\n",
       "    </tr>\n",
       "    <tr>\n",
       "      <th>12</th>\n",
       "      <td>male</td>\n",
       "      <td>0.017890</td>\n",
       "    </tr>\n",
       "    <tr>\n",
       "      <th>30</th>\n",
       "      <td>rural_location</td>\n",
       "      <td>0.025237</td>\n",
       "    </tr>\n",
       "    <tr>\n",
       "      <th>33</th>\n",
       "      <td>Spring</td>\n",
       "      <td>0.027316</td>\n",
       "    </tr>\n",
       "    <tr>\n",
       "      <th>25</th>\n",
       "      <td>Late Morning</td>\n",
       "      <td>0.028744</td>\n",
       "    </tr>\n",
       "    <tr>\n",
       "      <th>27</th>\n",
       "      <td>Morning</td>\n",
       "      <td>0.047509</td>\n",
       "    </tr>\n",
       "    <tr>\n",
       "      <th>8</th>\n",
       "      <td>hispanic</td>\n",
       "      <td>0.081212</td>\n",
       "    </tr>\n",
       "    <tr>\n",
       "      <th>18</th>\n",
       "      <td>violation_Moving Violation: Other</td>\n",
       "      <td>0.112623</td>\n",
       "    </tr>\n",
       "    <tr>\n",
       "      <th>19</th>\n",
       "      <td>violation_Moving Violation: Seat Belt</td>\n",
       "      <td>0.212938</td>\n",
       "    </tr>\n",
       "    <tr>\n",
       "      <th>1</th>\n",
       "      <td>search_person</td>\n",
       "      <td>0.271415</td>\n",
       "    </tr>\n",
       "    <tr>\n",
       "      <th>20</th>\n",
       "      <td>violation_Moving Violation: Speed</td>\n",
       "      <td>0.287043</td>\n",
       "    </tr>\n",
       "  </tbody>\n",
       "</table>\n",
       "</div>"
      ],
      "text/plain": [
       "                                             Features  Coefficient\n",
       "13                                violation_Equipment    -0.201954\n",
       "28                                              Night    -0.148252\n",
       "26                                         Late Night    -0.124868\n",
       "23                                            Evening    -0.099902\n",
       "17         violation_Moving Violation: Lane Violation    -0.099662\n",
       "4                                        vehicle_year    -0.086320\n",
       "10                                              white    -0.082560\n",
       "14                       violation_Commercial Vehicle    -0.048306\n",
       "3                                       department_id    -0.045239\n",
       "11                                             female    -0.038327\n",
       "22                                      Early Morning    -0.027915\n",
       "31                                     urban_location    -0.025237\n",
       "32                                               Fall    -0.017704\n",
       "16       violation_Moving Violation: Follow too close    -0.015334\n",
       "21  violation_Moving Violation: Traffic Sign or Si...    -0.009315\n",
       "5                                   raw_ReasonForStop    -0.002646\n",
       "7                                               black    -0.001592\n",
       "35                                             Winter    -0.000840\n",
       "9                                               other     0.000000\n",
       "15               violation_License Plate/Registration     0.000334\n",
       "36                 reason__License Plate/Registration     0.000334\n",
       "34                                             Summer     0.000340\n",
       "24                                     Late Afternoon     0.001514\n",
       "2                                      search_vehicle     0.006866\n",
       "0                                    search_conducted     0.009304\n",
       "29                                               Noon     0.010540\n",
       "6                              asian/pacific islander     0.017811\n",
       "12                                               male     0.017890\n",
       "30                                     rural_location     0.025237\n",
       "33                                             Spring     0.027316\n",
       "25                                       Late Morning     0.028744\n",
       "27                                            Morning     0.047509\n",
       "8                                            hispanic     0.081212\n",
       "18                  violation_Moving Violation: Other     0.112623\n",
       "19              violation_Moving Violation: Seat Belt     0.212938\n",
       "1                                       search_person     0.271415\n",
       "20                  violation_Moving Violation: Speed     0.287043"
      ]
     },
     "execution_count": 47,
     "metadata": {},
     "output_type": "execute_result"
    }
   ],
   "source": [
    "df"
   ]
  },
  {
   "cell_type": "markdown",
   "id": "efdeffc1",
   "metadata": {},
   "source": [
    "#### Findings from Logistic Regression\n",
    "\n",
    "According to our findings, the 'white' feature is more negative than the 'black' and 'hispanic' features. This supports the findings in the original paper, as more negative means less likely to receive a citation."
   ]
  },
  {
   "cell_type": "markdown",
   "id": "814fd27d",
   "metadata": {},
   "source": [
    "### Linear SVC"
   ]
  },
  {
   "cell_type": "markdown",
   "id": "0f2a266e",
   "metadata": {},
   "source": [
    "#### Find Penalty and C-value that maximizes test score."
   ]
  },
  {
   "cell_type": "code",
   "execution_count": 48,
   "id": "bcb09bd1",
   "metadata": {},
   "outputs": [],
   "source": [
    "def compare_penalty_lsvc(X, y):\n",
    "    \"\"\"\n",
    "    X_data: 2D feature matrix\n",
    "    y_data: 1D array containing the class labels\n",
    "    return: \n",
    "        a dataframe that is shown in the running example below\n",
    "    \"\"\"\n",
    "    ###TODO\n",
    "    results = []\n",
    "    \n",
    "    X_train, X_test, y_train, y_test = train_test_split(\n",
    "        X, y, test_size=0.30, random_state=42)\n",
    "    \n",
    "    scaler = StandardScaler()\n",
    "    X_train_std = scaler.fit_transform(X_train)\n",
    "    X_test_std = scaler.transform(X_test)\n",
    "    \n",
    "    \n",
    "    for p, s, d in zip(['l1', 'l2'],['squared_hinge', 'hinge'], [False, True]):\n",
    "        effect = {}\n",
    "        clf = LinearSVC(tol=0.001, penalty=p, dual=d,\n",
    "                                 random_state=42, loss=s)\n",
    "        clf.fit(X_train_std, y_train)\n",
    "        \n",
    "        effect['min'] = float(\"%.3f\" % clf.coef_[0].min())\n",
    "        effect['max'] = float(\"%.3f\" % clf.coef_[0].max())\n",
    "        effect['mean_abs'] = float(\"%.3f\" % np.abs(clf.coef_[0]).mean())\n",
    "        effect['n_zero'] = np.sum(clf.coef_[0] == 0)\n",
    "        effect['test_score'] = float(\"%.3f\" % clf.score(X_test_std, y_test))\n",
    "        \n",
    "        results.append(effect)\n",
    "        \n",
    "    return pd.DataFrame(results).rename(index={0:'l1', 1: 'l2'})"
   ]
  },
  {
   "cell_type": "code",
   "execution_count": 49,
   "id": "8fa77ebe",
   "metadata": {},
   "outputs": [],
   "source": [
    "def compare_c_lsvc(X_data, y_data, p='l1', s='squared_hinge', d=False):\n",
    "    \"\"\"\n",
    "    X_data: 2D feature matrix\n",
    "    y_data: 1D array containing the class labels\n",
    "    return: \n",
    "        a dataframe that is shown in the running example below\n",
    "    \"\"\"\n",
    "    ###TODO\n",
    "    results = []\n",
    "    \n",
    "    X_train, X_test, y_train, y_test = train_test_split(\n",
    "    X_data, y_data, test_size=0.30, random_state=42)\n",
    "    \n",
    "    scaler = StandardScaler()\n",
    "    X_train_std = scaler.fit_transform(X_train)\n",
    "    X_test_std = scaler.transform(X_test)\n",
    "    \n",
    "    for c in [0.001, 0.01, 0.1, 1, 10, 100]:\n",
    "            effect = {}\n",
    "            clf = LinearSVC(tol=0.001, penalty=p, dual=d, loss=s,\n",
    "                                    C = c, random_state=42)\n",
    "\n",
    "            clf.fit(X_train_std, y_train)\n",
    "\n",
    "            effect['c'] = c\n",
    "            effect['min'] = float(\"%.3f\" % clf.coef_[0].min())\n",
    "            effect['max'] = float(\"%.3f\" % clf.coef_[0].max())\n",
    "            effect['mean_abs'] = float(\"%.3f\" % np.abs(clf.coef_[0]).mean())\n",
    "            effect['n_zero'] = np.sum(clf.coef_[0] == 0)\n",
    "            effect['test_score'] = float(\"%.3f\" % clf.score(X_test_std, y_test))\n",
    "\n",
    "            results.append(effect)\n",
    "    \n",
    "    return pd.DataFrame(results)"
   ]
  },
  {
   "cell_type": "code",
   "execution_count": 50,
   "id": "4fa826d7",
   "metadata": {},
   "outputs": [
    {
     "data": {
      "text/html": [
       "<div>\n",
       "<style scoped>\n",
       "    .dataframe tbody tr th:only-of-type {\n",
       "        vertical-align: middle;\n",
       "    }\n",
       "\n",
       "    .dataframe tbody tr th {\n",
       "        vertical-align: top;\n",
       "    }\n",
       "\n",
       "    .dataframe thead th {\n",
       "        text-align: right;\n",
       "    }\n",
       "</style>\n",
       "<table border=\"1\" class=\"dataframe\">\n",
       "  <thead>\n",
       "    <tr style=\"text-align: right;\">\n",
       "      <th></th>\n",
       "      <th>min</th>\n",
       "      <th>max</th>\n",
       "      <th>mean_abs</th>\n",
       "      <th>n_zero</th>\n",
       "      <th>test_score</th>\n",
       "    </tr>\n",
       "  </thead>\n",
       "  <tbody>\n",
       "    <tr>\n",
       "      <th>l1</th>\n",
       "      <td>-0.141</td>\n",
       "      <td>0.121</td>\n",
       "      <td>0.033</td>\n",
       "      <td>0</td>\n",
       "      <td>0.617</td>\n",
       "    </tr>\n",
       "    <tr>\n",
       "      <th>l2</th>\n",
       "      <td>-0.969</td>\n",
       "      <td>0.445</td>\n",
       "      <td>0.123</td>\n",
       "      <td>0</td>\n",
       "      <td>0.614</td>\n",
       "    </tr>\n",
       "  </tbody>\n",
       "</table>\n",
       "</div>"
      ],
      "text/plain": [
       "      min    max  mean_abs  n_zero  test_score\n",
       "l1 -0.141  0.121     0.033       0       0.617\n",
       "l2 -0.969  0.445     0.123       0       0.614"
      ]
     },
     "execution_count": 50,
     "metadata": {},
     "output_type": "execute_result"
    }
   ],
   "source": [
    "compare_penalty_lsvc(X, y)"
   ]
  },
  {
   "cell_type": "code",
   "execution_count": 51,
   "id": "75e47876",
   "metadata": {},
   "outputs": [
    {
     "data": {
      "text/html": [
       "<div>\n",
       "<style scoped>\n",
       "    .dataframe tbody tr th:only-of-type {\n",
       "        vertical-align: middle;\n",
       "    }\n",
       "\n",
       "    .dataframe tbody tr th {\n",
       "        vertical-align: top;\n",
       "    }\n",
       "\n",
       "    .dataframe thead th {\n",
       "        text-align: right;\n",
       "    }\n",
       "</style>\n",
       "<table border=\"1\" class=\"dataframe\">\n",
       "  <thead>\n",
       "    <tr style=\"text-align: right;\">\n",
       "      <th></th>\n",
       "      <th>c</th>\n",
       "      <th>min</th>\n",
       "      <th>max</th>\n",
       "      <th>mean_abs</th>\n",
       "      <th>n_zero</th>\n",
       "      <th>test_score</th>\n",
       "    </tr>\n",
       "  </thead>\n",
       "  <tbody>\n",
       "    <tr>\n",
       "      <th>0</th>\n",
       "      <td>0.001</td>\n",
       "      <td>-0.085</td>\n",
       "      <td>0.133</td>\n",
       "      <td>0.025</td>\n",
       "      <td>12</td>\n",
       "      <td>0.617</td>\n",
       "    </tr>\n",
       "    <tr>\n",
       "      <th>1</th>\n",
       "      <td>0.010</td>\n",
       "      <td>-0.088</td>\n",
       "      <td>0.138</td>\n",
       "      <td>0.029</td>\n",
       "      <td>8</td>\n",
       "      <td>0.617</td>\n",
       "    </tr>\n",
       "    <tr>\n",
       "      <th>2</th>\n",
       "      <td>0.100</td>\n",
       "      <td>-0.127</td>\n",
       "      <td>0.120</td>\n",
       "      <td>0.031</td>\n",
       "      <td>3</td>\n",
       "      <td>0.617</td>\n",
       "    </tr>\n",
       "    <tr>\n",
       "      <th>3</th>\n",
       "      <td>1.000</td>\n",
       "      <td>-0.141</td>\n",
       "      <td>0.121</td>\n",
       "      <td>0.033</td>\n",
       "      <td>0</td>\n",
       "      <td>0.617</td>\n",
       "    </tr>\n",
       "    <tr>\n",
       "      <th>4</th>\n",
       "      <td>10.000</td>\n",
       "      <td>-0.141</td>\n",
       "      <td>0.121</td>\n",
       "      <td>0.034</td>\n",
       "      <td>0</td>\n",
       "      <td>0.617</td>\n",
       "    </tr>\n",
       "    <tr>\n",
       "      <th>5</th>\n",
       "      <td>100.000</td>\n",
       "      <td>-0.141</td>\n",
       "      <td>0.121</td>\n",
       "      <td>0.034</td>\n",
       "      <td>0</td>\n",
       "      <td>0.617</td>\n",
       "    </tr>\n",
       "  </tbody>\n",
       "</table>\n",
       "</div>"
      ],
      "text/plain": [
       "         c    min    max  mean_abs  n_zero  test_score\n",
       "0    0.001 -0.085  0.133     0.025      12       0.617\n",
       "1    0.010 -0.088  0.138     0.029       8       0.617\n",
       "2    0.100 -0.127  0.120     0.031       3       0.617\n",
       "3    1.000 -0.141  0.121     0.033       0       0.617\n",
       "4   10.000 -0.141  0.121     0.034       0       0.617\n",
       "5  100.000 -0.141  0.121     0.034       0       0.617"
      ]
     },
     "execution_count": 51,
     "metadata": {},
     "output_type": "execute_result"
    }
   ],
   "source": [
    "compare_c_lsvc(X, y, p='l1',s='squared_hinge', d=False)"
   ]
  },
  {
   "cell_type": "markdown",
   "id": "088784be",
   "metadata": {},
   "source": [
    "#### Run Model."
   ]
  },
  {
   "cell_type": "code",
   "execution_count": 52,
   "id": "fb7df43f",
   "metadata": {},
   "outputs": [],
   "source": [
    "def lSVC(dataset, target, p, c, s, d):\n",
    "    X = np.array(dataset[features]) \n",
    "    y = np.array(dataset[target])\n",
    "    clf = LinearSVC(random_state=0, tol=1e-5, penalty=p, loss=s, dual=d, C=c)\n",
    "    X_train, X_test, y_train, y_test = train_test_split(X, y, random_state=42)\n",
    "    pipe = make_pipeline(StandardScaler(), clf)\n",
    "    pipe.fit(X_train, y_train)\n",
    "\n",
    "    cv = KFold(n_splits=(10))\n",
    "    scores = cross_val_score(pipe, X_train, y_train, cv = cv, scoring='f1')\n",
    "    print(\"10-fold CV F1 score: {:.3f} +/- {:.3f}\".format(np.mean(scores), np.std(scores)))\n",
    "    \n",
    "    scores2 = cross_val_score(pipe, X_train, y_train, cv = cv, scoring='roc_auc')\n",
    "    print(\"10-fold CV ROC_AUC score: {:.3f} +/- {:.3f}\".format(np.mean(scores2), np.std(scores2)))\n",
    "    \n",
    "    X_total = np.array(data[features]) \n",
    "    y_total = np.array(data[target])\n",
    "    X_train_total, X_test_total, y_train_total, y_test_total = train_test_split(X_total, y_total, random_state=42)\n",
    "    \n",
    "    y_pred = pipe.predict(X_test_total)\n",
    "    \n",
    "    prfs = list(precision_recall_fscore_support(y_test_total, y_pred, average='weighted'))\n",
    "    perf = ['LinearSVC', roc_auc_score(y_test_total, y_pred), accuracy_score(y_test_total, y_pred)]\n",
    "    perf.extend(prfs[:-1])\n",
    "    \n",
    "    y_pred = pipe.predict(X_test)\n",
    "    cm = confusion_matrix(y_test, y_pred)\n",
    "    disp = ConfusionMatrixDisplay(confusion_matrix=cm, display_labels=clf.classes_)\n",
    "    \n",
    "    coeff_df = pd.DataFrame(features)\n",
    "    coeff_df.columns = ['Features']\n",
    "    coeff_df[\"Coefficient\"] = pd.Series(clf.coef_[0])\n",
    "\n",
    "    # preview\n",
    "    coeff_df.sort_values(by='Coefficient', inplace=True)\n",
    "    \n",
    "    fig, ax = plt.subplots(figsize=(6,12))\n",
    "    l = len(features)\n",
    "    ax.barh(range(l), coeff_df.Coefficient)\n",
    "    ax.set_xlabel(\"Feature importance\")\n",
    "    ax.set_ylabel(\"Feature coefficient\")\n",
    "    ax.set_yticks(range(l))\n",
    "    y_lb = ax.set_yticklabels(coeff_df.Features)\n",
    "    \n",
    "    return coeff_df, tuple(perf), disp"
   ]
  },
  {
   "cell_type": "code",
   "execution_count": 53,
   "id": "27dd204e",
   "metadata": {},
   "outputs": [
    {
     "name": "stdout",
     "output_type": "stream",
     "text": [
      "10-fold CV F1 score: 0.573 +/- 0.009\n",
      "10-fold CV ROC_AUC score: 0.667 +/- 0.007\n"
     ]
    },
    {
     "data": {
      "image/png": "[encoded data removed]",
      "text/plain": [
       "<Figure size 432x864 with 1 Axes>"
      ]
     },
     "metadata": {},
     "output_type": "display_data"
    }
   ],
   "source": [
    "df, lsvc_perf, lsvc_disp = lSVC(data, 'citation_issued', p='l1', c= .01, s='squared_hinge', d=False)"
   ]
  },
  {
   "cell_type": "code",
   "execution_count": 54,
   "id": "df5456a3",
   "metadata": {},
   "outputs": [
    {
     "data": {
      "text/html": [
       "<div>\n",
       "<style scoped>\n",
       "    .dataframe tbody tr th:only-of-type {\n",
       "        vertical-align: middle;\n",
       "    }\n",
       "\n",
       "    .dataframe tbody tr th {\n",
       "        vertical-align: top;\n",
       "    }\n",
       "\n",
       "    .dataframe thead th {\n",
       "        text-align: right;\n",
       "    }\n",
       "</style>\n",
       "<table border=\"1\" class=\"dataframe\">\n",
       "  <thead>\n",
       "    <tr style=\"text-align: right;\">\n",
       "      <th></th>\n",
       "      <th>Features</th>\n",
       "      <th>Coefficient</th>\n",
       "    </tr>\n",
       "  </thead>\n",
       "  <tbody>\n",
       "    <tr>\n",
       "      <th>13</th>\n",
       "      <td>violation_Equipment</td>\n",
       "      <td>-0.088364</td>\n",
       "    </tr>\n",
       "    <tr>\n",
       "      <th>28</th>\n",
       "      <td>Night</td>\n",
       "      <td>-0.075507</td>\n",
       "    </tr>\n",
       "    <tr>\n",
       "      <th>26</th>\n",
       "      <td>Late Night</td>\n",
       "      <td>-0.060128</td>\n",
       "    </tr>\n",
       "    <tr>\n",
       "      <th>23</th>\n",
       "      <td>Evening</td>\n",
       "      <td>-0.056470</td>\n",
       "    </tr>\n",
       "    <tr>\n",
       "      <th>17</th>\n",
       "      <td>violation_Moving Violation: Lane Violation</td>\n",
       "      <td>-0.050551</td>\n",
       "    </tr>\n",
       "    <tr>\n",
       "      <th>4</th>\n",
       "      <td>vehicle_year</td>\n",
       "      <td>-0.041633</td>\n",
       "    </tr>\n",
       "    <tr>\n",
       "      <th>10</th>\n",
       "      <td>white</td>\n",
       "      <td>-0.037635</td>\n",
       "    </tr>\n",
       "    <tr>\n",
       "      <th>31</th>\n",
       "      <td>urban_location</td>\n",
       "      <td>-0.028255</td>\n",
       "    </tr>\n",
       "    <tr>\n",
       "      <th>14</th>\n",
       "      <td>violation_Commercial Vehicle</td>\n",
       "      <td>-0.025338</td>\n",
       "    </tr>\n",
       "    <tr>\n",
       "      <th>11</th>\n",
       "      <td>female</td>\n",
       "      <td>-0.024077</td>\n",
       "    </tr>\n",
       "    <tr>\n",
       "      <th>22</th>\n",
       "      <td>Early Morning</td>\n",
       "      <td>-0.020860</td>\n",
       "    </tr>\n",
       "    <tr>\n",
       "      <th>3</th>\n",
       "      <td>department_id</td>\n",
       "      <td>-0.015916</td>\n",
       "    </tr>\n",
       "    <tr>\n",
       "      <th>16</th>\n",
       "      <td>violation_Moving Violation: Follow too close</td>\n",
       "      <td>-0.008374</td>\n",
       "    </tr>\n",
       "    <tr>\n",
       "      <th>32</th>\n",
       "      <td>Fall</td>\n",
       "      <td>-0.006945</td>\n",
       "    </tr>\n",
       "    <tr>\n",
       "      <th>21</th>\n",
       "      <td>violation_Moving Violation: Traffic Sign or Si...</td>\n",
       "      <td>-0.005582</td>\n",
       "    </tr>\n",
       "    <tr>\n",
       "      <th>34</th>\n",
       "      <td>Summer</td>\n",
       "      <td>-0.000907</td>\n",
       "    </tr>\n",
       "    <tr>\n",
       "      <th>30</th>\n",
       "      <td>rural_location</td>\n",
       "      <td>0.000000</td>\n",
       "    </tr>\n",
       "    <tr>\n",
       "      <th>35</th>\n",
       "      <td>Winter</td>\n",
       "      <td>0.000000</td>\n",
       "    </tr>\n",
       "    <tr>\n",
       "      <th>36</th>\n",
       "      <td>reason__License Plate/Registration</td>\n",
       "      <td>0.000000</td>\n",
       "    </tr>\n",
       "    <tr>\n",
       "      <th>24</th>\n",
       "      <td>Late Afternoon</td>\n",
       "      <td>0.000000</td>\n",
       "    </tr>\n",
       "    <tr>\n",
       "      <th>9</th>\n",
       "      <td>other</td>\n",
       "      <td>0.000000</td>\n",
       "    </tr>\n",
       "    <tr>\n",
       "      <th>7</th>\n",
       "      <td>black</td>\n",
       "      <td>0.000000</td>\n",
       "    </tr>\n",
       "    <tr>\n",
       "      <th>5</th>\n",
       "      <td>raw_ReasonForStop</td>\n",
       "      <td>0.000000</td>\n",
       "    </tr>\n",
       "    <tr>\n",
       "      <th>2</th>\n",
       "      <td>search_vehicle</td>\n",
       "      <td>0.000000</td>\n",
       "    </tr>\n",
       "    <tr>\n",
       "      <th>15</th>\n",
       "      <td>violation_License Plate/Registration</td>\n",
       "      <td>0.000000</td>\n",
       "    </tr>\n",
       "    <tr>\n",
       "      <th>12</th>\n",
       "      <td>male</td>\n",
       "      <td>0.000000</td>\n",
       "    </tr>\n",
       "    <tr>\n",
       "      <th>0</th>\n",
       "      <td>search_conducted</td>\n",
       "      <td>0.004056</td>\n",
       "    </tr>\n",
       "    <tr>\n",
       "      <th>29</th>\n",
       "      <td>Noon</td>\n",
       "      <td>0.004381</td>\n",
       "    </tr>\n",
       "    <tr>\n",
       "      <th>6</th>\n",
       "      <td>asian/pacific islander</td>\n",
       "      <td>0.008935</td>\n",
       "    </tr>\n",
       "    <tr>\n",
       "      <th>25</th>\n",
       "      <td>Late Morning</td>\n",
       "      <td>0.011252</td>\n",
       "    </tr>\n",
       "    <tr>\n",
       "      <th>33</th>\n",
       "      <td>Spring</td>\n",
       "      <td>0.013975</td>\n",
       "    </tr>\n",
       "    <tr>\n",
       "      <th>27</th>\n",
       "      <td>Morning</td>\n",
       "      <td>0.019897</td>\n",
       "    </tr>\n",
       "    <tr>\n",
       "      <th>8</th>\n",
       "      <td>hispanic</td>\n",
       "      <td>0.038343</td>\n",
       "    </tr>\n",
       "    <tr>\n",
       "      <th>18</th>\n",
       "      <td>violation_Moving Violation: Other</td>\n",
       "      <td>0.053108</td>\n",
       "    </tr>\n",
       "    <tr>\n",
       "      <th>19</th>\n",
       "      <td>violation_Moving Violation: Seat Belt</td>\n",
       "      <td>0.097353</td>\n",
       "    </tr>\n",
       "    <tr>\n",
       "      <th>1</th>\n",
       "      <td>search_person</td>\n",
       "      <td>0.119157</td>\n",
       "    </tr>\n",
       "    <tr>\n",
       "      <th>20</th>\n",
       "      <td>violation_Moving Violation: Speed</td>\n",
       "      <td>0.139762</td>\n",
       "    </tr>\n",
       "  </tbody>\n",
       "</table>\n",
       "</div>"
      ],
      "text/plain": [
       "                                             Features  Coefficient\n",
       "13                                violation_Equipment    -0.088364\n",
       "28                                              Night    -0.075507\n",
       "26                                         Late Night    -0.060128\n",
       "23                                            Evening    -0.056470\n",
       "17         violation_Moving Violation: Lane Violation    -0.050551\n",
       "4                                        vehicle_year    -0.041633\n",
       "10                                              white    -0.037635\n",
       "31                                     urban_location    -0.028255\n",
       "14                       violation_Commercial Vehicle    -0.025338\n",
       "11                                             female    -0.024077\n",
       "22                                      Early Morning    -0.020860\n",
       "3                                       department_id    -0.015916\n",
       "16       violation_Moving Violation: Follow too close    -0.008374\n",
       "32                                               Fall    -0.006945\n",
       "21  violation_Moving Violation: Traffic Sign or Si...    -0.005582\n",
       "34                                             Summer    -0.000907\n",
       "30                                     rural_location     0.000000\n",
       "35                                             Winter     0.000000\n",
       "36                 reason__License Plate/Registration     0.000000\n",
       "24                                     Late Afternoon     0.000000\n",
       "9                                               other     0.000000\n",
       "7                                               black     0.000000\n",
       "5                                   raw_ReasonForStop     0.000000\n",
       "2                                      search_vehicle     0.000000\n",
       "15               violation_License Plate/Registration     0.000000\n",
       "12                                               male     0.000000\n",
       "0                                    search_conducted     0.004056\n",
       "29                                               Noon     0.004381\n",
       "6                              asian/pacific islander     0.008935\n",
       "25                                       Late Morning     0.011252\n",
       "33                                             Spring     0.013975\n",
       "27                                            Morning     0.019897\n",
       "8                                            hispanic     0.038343\n",
       "18                  violation_Moving Violation: Other     0.053108\n",
       "19              violation_Moving Violation: Seat Belt     0.097353\n",
       "1                                       search_person     0.119157\n",
       "20                  violation_Moving Violation: Speed     0.139762"
      ]
     },
     "execution_count": 54,
     "metadata": {},
     "output_type": "execute_result"
    }
   ],
   "source": [
    "df"
   ]
  },
  {
   "cell_type": "markdown",
   "id": "c0d7abe2",
   "metadata": {},
   "source": [
    "#### Findings from Linear SVC Model\n",
    "\n",
    "Like with the Linear Regression model, the 'white' feature is more negative than the 'black' and 'hispanic' features. This also supports the findings in the original paper."
   ]
  },
  {
   "cell_type": "markdown",
   "id": "a47a807c",
   "metadata": {},
   "source": [
    "## SGDClassifier"
   ]
  },
  {
   "cell_type": "markdown",
   "id": "6f47bb45",
   "metadata": {},
   "source": [
    "### Find Penalty that maximizes test score."
   ]
  },
  {
   "cell_type": "code",
   "execution_count": 55,
   "id": "c54c0a7c",
   "metadata": {},
   "outputs": [],
   "source": [
    "def compare_penalty_sgdc(X, y):\n",
    "    \"\"\"\n",
    "    X_data: 2D feature matrix\n",
    "    y_data: 1D array containing the class labels\n",
    "    return: \n",
    "        a dataframe that is shown in the running example below\n",
    "    \"\"\"\n",
    "    ###TODO\n",
    "    results = []\n",
    "    \n",
    "    X_train, X_test, y_train, y_test = train_test_split(\n",
    "        X, y, test_size=0.30, random_state=42)\n",
    "    \n",
    "    scaler = StandardScaler()\n",
    "    X_train_std = scaler.fit_transform(X_train)\n",
    "    X_test_std = scaler.transform(X_test)\n",
    "    \n",
    "    \n",
    "    for p in (['l1', 'l2']):\n",
    "        effect = {}\n",
    "        clf = SGDClassifier(max_iter=1000, tol=1e-3, penalty=p)\n",
    "        clf.fit(X_train_std, y_train)\n",
    "        \n",
    "        effect['min'] = float(\"%.3f\" % clf.coef_[0].min())\n",
    "        effect['max'] = float(\"%.3f\" % clf.coef_[0].max())\n",
    "        effect['mean_abs'] = float(\"%.3f\" % np.abs(clf.coef_[0]).mean())\n",
    "        effect['n_zero'] = np.sum(clf.coef_[0] == 0)\n",
    "        effect['test_score'] = float(\"%.3f\" % clf.score(X_test_std, y_test))\n",
    "        \n",
    "        results.append(effect)\n",
    "        \n",
    "    return pd.DataFrame(results).rename(index={0:'l1', 1: 'l2'})"
   ]
  },
  {
   "cell_type": "code",
   "execution_count": 56,
   "id": "8987e67b",
   "metadata": {},
   "outputs": [
    {
     "data": {
      "text/html": [
       "<div>\n",
       "<style scoped>\n",
       "    .dataframe tbody tr th:only-of-type {\n",
       "        vertical-align: middle;\n",
       "    }\n",
       "\n",
       "    .dataframe tbody tr th {\n",
       "        vertical-align: top;\n",
       "    }\n",
       "\n",
       "    .dataframe thead th {\n",
       "        text-align: right;\n",
       "    }\n",
       "</style>\n",
       "<table border=\"1\" class=\"dataframe\">\n",
       "  <thead>\n",
       "    <tr style=\"text-align: right;\">\n",
       "      <th></th>\n",
       "      <th>min</th>\n",
       "      <th>max</th>\n",
       "      <th>mean_abs</th>\n",
       "      <th>n_zero</th>\n",
       "      <th>test_score</th>\n",
       "    </tr>\n",
       "  </thead>\n",
       "  <tbody>\n",
       "    <tr>\n",
       "      <th>l1</th>\n",
       "      <td>-0.066</td>\n",
       "      <td>0.844</td>\n",
       "      <td>0.055</td>\n",
       "      <td>24</td>\n",
       "      <td>0.617</td>\n",
       "    </tr>\n",
       "    <tr>\n",
       "      <th>l2</th>\n",
       "      <td>-0.326</td>\n",
       "      <td>0.514</td>\n",
       "      <td>0.092</td>\n",
       "      <td>0</td>\n",
       "      <td>0.611</td>\n",
       "    </tr>\n",
       "  </tbody>\n",
       "</table>\n",
       "</div>"
      ],
      "text/plain": [
       "      min    max  mean_abs  n_zero  test_score\n",
       "l1 -0.066  0.844     0.055      24       0.617\n",
       "l2 -0.326  0.514     0.092       0       0.611"
      ]
     },
     "execution_count": 56,
     "metadata": {},
     "output_type": "execute_result"
    }
   ],
   "source": [
    "compare_penalty_sgdc(X, y)"
   ]
  },
  {
   "cell_type": "markdown",
   "id": "293ffd99",
   "metadata": {},
   "source": [
    "### Run Model."
   ]
  },
  {
   "cell_type": "code",
   "execution_count": 57,
   "id": "a69ecdce",
   "metadata": {},
   "outputs": [],
   "source": [
    "def SGDC(dataset, target, p):\n",
    "    X = np.array(dataset[features]) \n",
    "    y = np.array(dataset[target])\n",
    "\n",
    "    clf = SGDClassifier(max_iter=1000, tol=1e-3, penalty=p)\n",
    "    X_train, X_test, y_train, y_test = train_test_split(X, y, random_state=42)\n",
    "    pipe = make_pipeline(StandardScaler(), clf)\n",
    "    pipe.fit(X_train, y_train)\n",
    "\n",
    "    cv = KFold(n_splits=(10))\n",
    "    scores = cross_val_score(pipe, X_train, y_train, cv = cv, scoring='f1')\n",
    "    print(\"10-fold CV F1 score: {:.3f} +/- {:.3f}\".format(np.mean(scores), np.std(scores)))\n",
    "    \n",
    "    scores2 = cross_val_score(pipe, X_train, y_train, cv = cv, scoring='roc_auc')\n",
    "    print(\"10-fold CV ROC_AUC score: {:.3f} +/- {:.3f}\".format(np.mean(scores2), np.std(scores2)))\n",
    "    \n",
    "    X_total = np.array(data[features]) \n",
    "    y_total = np.array(data[target])\n",
    "    X_train_total, X_test_total, y_train_total, y_test_total = train_test_split(X_total, y_total, random_state=42)\n",
    "    \n",
    "    y_pred = pipe.predict(X_test_total)\n",
    "    \n",
    "    prfs = list(precision_recall_fscore_support(y_test_total, y_pred, average='weighted'))\n",
    "    perf = ['SGD Classifier', roc_auc_score(y_test_total, y_pred), accuracy_score(y_test_total, y_pred)]\n",
    "    perf.extend(prfs[:-1])\n",
    "    \n",
    "    y_pred = pipe.predict(X_test)\n",
    "    cm = confusion_matrix(y_test, y_pred)\n",
    "    disp = ConfusionMatrixDisplay(confusion_matrix=cm, display_labels=clf.classes_)\n",
    "    \n",
    "    coeff_df = pd.DataFrame(features)\n",
    "    coeff_df.columns = ['Features']\n",
    "    coeff_df[\"Coefficient\"] = pd.Series(clf.coef_[0])\n",
    "\n",
    "    # preview\n",
    "    coeff_df.sort_values(by='Coefficient', inplace=True)\n",
    "    \n",
    "    fig, ax = plt.subplots(figsize=(6,12))\n",
    "    l = len(features)\n",
    "    ax.barh(range(l), coeff_df.Coefficient)\n",
    "    ax.set_xlabel(\"Feature importance\")\n",
    "    ax.set_ylabel(\"Feature coefficient\")\n",
    "    ax.set_yticks(range(l))\n",
    "    y_lb = ax.set_yticklabels(coeff_df.Features)\n",
    "    \n",
    "    return coeff_df, tuple(perf), disp"
   ]
  },
  {
   "cell_type": "code",
   "execution_count": 58,
   "id": "c2ede919",
   "metadata": {},
   "outputs": [
    {
     "name": "stdout",
     "output_type": "stream",
     "text": [
      "10-fold CV F1 score: 0.601 +/- 0.015\n",
      "10-fold CV ROC_AUC score: 0.648 +/- 0.006\n"
     ]
    },
    {
     "data": {
      "image/png": "[encoded data removed]",
      "text/plain": [
       "<Figure size 432x864 with 1 Axes>"
      ]
     },
     "metadata": {},
     "output_type": "display_data"
    }
   ],
   "source": [
    "df, sgdc_perf, sgdc_disp = SGDC(data, 'citation_issued', 'l1')"
   ]
  },
  {
   "cell_type": "code",
   "execution_count": 59,
   "id": "f31386a6",
   "metadata": {},
   "outputs": [
    {
     "data": {
      "text/html": [
       "<div>\n",
       "<style scoped>\n",
       "    .dataframe tbody tr th:only-of-type {\n",
       "        vertical-align: middle;\n",
       "    }\n",
       "\n",
       "    .dataframe tbody tr th {\n",
       "        vertical-align: top;\n",
       "    }\n",
       "\n",
       "    .dataframe thead th {\n",
       "        text-align: right;\n",
       "    }\n",
       "</style>\n",
       "<table border=\"1\" class=\"dataframe\">\n",
       "  <thead>\n",
       "    <tr style=\"text-align: right;\">\n",
       "      <th></th>\n",
       "      <th>Features</th>\n",
       "      <th>Coefficient</th>\n",
       "    </tr>\n",
       "  </thead>\n",
       "  <tbody>\n",
       "    <tr>\n",
       "      <th>4</th>\n",
       "      <td>vehicle_year</td>\n",
       "      <td>-0.062301</td>\n",
       "    </tr>\n",
       "    <tr>\n",
       "      <th>26</th>\n",
       "      <td>Late Night</td>\n",
       "      <td>-0.053758</td>\n",
       "    </tr>\n",
       "    <tr>\n",
       "      <th>13</th>\n",
       "      <td>violation_Equipment</td>\n",
       "      <td>-0.039906</td>\n",
       "    </tr>\n",
       "    <tr>\n",
       "      <th>10</th>\n",
       "      <td>white</td>\n",
       "      <td>-0.034770</td>\n",
       "    </tr>\n",
       "    <tr>\n",
       "      <th>11</th>\n",
       "      <td>female</td>\n",
       "      <td>-0.020940</td>\n",
       "    </tr>\n",
       "    <tr>\n",
       "      <th>23</th>\n",
       "      <td>Evening</td>\n",
       "      <td>-0.016761</td>\n",
       "    </tr>\n",
       "    <tr>\n",
       "      <th>3</th>\n",
       "      <td>department_id</td>\n",
       "      <td>-0.015342</td>\n",
       "    </tr>\n",
       "    <tr>\n",
       "      <th>0</th>\n",
       "      <td>search_conducted</td>\n",
       "      <td>0.000000</td>\n",
       "    </tr>\n",
       "    <tr>\n",
       "      <th>24</th>\n",
       "      <td>Late Afternoon</td>\n",
       "      <td>0.000000</td>\n",
       "    </tr>\n",
       "    <tr>\n",
       "      <th>25</th>\n",
       "      <td>Late Morning</td>\n",
       "      <td>0.000000</td>\n",
       "    </tr>\n",
       "    <tr>\n",
       "      <th>27</th>\n",
       "      <td>Morning</td>\n",
       "      <td>0.000000</td>\n",
       "    </tr>\n",
       "    <tr>\n",
       "      <th>28</th>\n",
       "      <td>Night</td>\n",
       "      <td>0.000000</td>\n",
       "    </tr>\n",
       "    <tr>\n",
       "      <th>29</th>\n",
       "      <td>Noon</td>\n",
       "      <td>0.000000</td>\n",
       "    </tr>\n",
       "    <tr>\n",
       "      <th>30</th>\n",
       "      <td>rural_location</td>\n",
       "      <td>0.000000</td>\n",
       "    </tr>\n",
       "    <tr>\n",
       "      <th>31</th>\n",
       "      <td>urban_location</td>\n",
       "      <td>0.000000</td>\n",
       "    </tr>\n",
       "    <tr>\n",
       "      <th>32</th>\n",
       "      <td>Fall</td>\n",
       "      <td>0.000000</td>\n",
       "    </tr>\n",
       "    <tr>\n",
       "      <th>34</th>\n",
       "      <td>Summer</td>\n",
       "      <td>0.000000</td>\n",
       "    </tr>\n",
       "    <tr>\n",
       "      <th>22</th>\n",
       "      <td>Early Morning</td>\n",
       "      <td>0.000000</td>\n",
       "    </tr>\n",
       "    <tr>\n",
       "      <th>21</th>\n",
       "      <td>violation_Moving Violation: Traffic Sign or Si...</td>\n",
       "      <td>0.000000</td>\n",
       "    </tr>\n",
       "    <tr>\n",
       "      <th>36</th>\n",
       "      <td>reason__License Plate/Registration</td>\n",
       "      <td>0.000000</td>\n",
       "    </tr>\n",
       "    <tr>\n",
       "      <th>35</th>\n",
       "      <td>Winter</td>\n",
       "      <td>0.000000</td>\n",
       "    </tr>\n",
       "    <tr>\n",
       "      <th>17</th>\n",
       "      <td>violation_Moving Violation: Lane Violation</td>\n",
       "      <td>0.000000</td>\n",
       "    </tr>\n",
       "    <tr>\n",
       "      <th>16</th>\n",
       "      <td>violation_Moving Violation: Follow too close</td>\n",
       "      <td>0.000000</td>\n",
       "    </tr>\n",
       "    <tr>\n",
       "      <th>15</th>\n",
       "      <td>violation_License Plate/Registration</td>\n",
       "      <td>0.000000</td>\n",
       "    </tr>\n",
       "    <tr>\n",
       "      <th>14</th>\n",
       "      <td>violation_Commercial Vehicle</td>\n",
       "      <td>0.000000</td>\n",
       "    </tr>\n",
       "    <tr>\n",
       "      <th>12</th>\n",
       "      <td>male</td>\n",
       "      <td>0.000000</td>\n",
       "    </tr>\n",
       "    <tr>\n",
       "      <th>9</th>\n",
       "      <td>other</td>\n",
       "      <td>0.000000</td>\n",
       "    </tr>\n",
       "    <tr>\n",
       "      <th>7</th>\n",
       "      <td>black</td>\n",
       "      <td>0.000000</td>\n",
       "    </tr>\n",
       "    <tr>\n",
       "      <th>6</th>\n",
       "      <td>asian/pacific islander</td>\n",
       "      <td>0.000000</td>\n",
       "    </tr>\n",
       "    <tr>\n",
       "      <th>5</th>\n",
       "      <td>raw_ReasonForStop</td>\n",
       "      <td>0.000000</td>\n",
       "    </tr>\n",
       "    <tr>\n",
       "      <th>2</th>\n",
       "      <td>search_vehicle</td>\n",
       "      <td>0.000000</td>\n",
       "    </tr>\n",
       "    <tr>\n",
       "      <th>8</th>\n",
       "      <td>hispanic</td>\n",
       "      <td>0.022683</td>\n",
       "    </tr>\n",
       "    <tr>\n",
       "      <th>33</th>\n",
       "      <td>Spring</td>\n",
       "      <td>0.053373</td>\n",
       "    </tr>\n",
       "    <tr>\n",
       "      <th>19</th>\n",
       "      <td>violation_Moving Violation: Seat Belt</td>\n",
       "      <td>0.345888</td>\n",
       "    </tr>\n",
       "    <tr>\n",
       "      <th>1</th>\n",
       "      <td>search_person</td>\n",
       "      <td>0.352676</td>\n",
       "    </tr>\n",
       "    <tr>\n",
       "      <th>18</th>\n",
       "      <td>violation_Moving Violation: Other</td>\n",
       "      <td>0.481877</td>\n",
       "    </tr>\n",
       "    <tr>\n",
       "      <th>20</th>\n",
       "      <td>violation_Moving Violation: Speed</td>\n",
       "      <td>0.910447</td>\n",
       "    </tr>\n",
       "  </tbody>\n",
       "</table>\n",
       "</div>"
      ],
      "text/plain": [
       "                                             Features  Coefficient\n",
       "4                                        vehicle_year    -0.062301\n",
       "26                                         Late Night    -0.053758\n",
       "13                                violation_Equipment    -0.039906\n",
       "10                                              white    -0.034770\n",
       "11                                             female    -0.020940\n",
       "23                                            Evening    -0.016761\n",
       "3                                       department_id    -0.015342\n",
       "0                                    search_conducted     0.000000\n",
       "24                                     Late Afternoon     0.000000\n",
       "25                                       Late Morning     0.000000\n",
       "27                                            Morning     0.000000\n",
       "28                                              Night     0.000000\n",
       "29                                               Noon     0.000000\n",
       "30                                     rural_location     0.000000\n",
       "31                                     urban_location     0.000000\n",
       "32                                               Fall     0.000000\n",
       "34                                             Summer     0.000000\n",
       "22                                      Early Morning     0.000000\n",
       "21  violation_Moving Violation: Traffic Sign or Si...     0.000000\n",
       "36                 reason__License Plate/Registration     0.000000\n",
       "35                                             Winter     0.000000\n",
       "17         violation_Moving Violation: Lane Violation     0.000000\n",
       "16       violation_Moving Violation: Follow too close     0.000000\n",
       "15               violation_License Plate/Registration     0.000000\n",
       "14                       violation_Commercial Vehicle     0.000000\n",
       "12                                               male     0.000000\n",
       "9                                               other     0.000000\n",
       "7                                               black     0.000000\n",
       "6                              asian/pacific islander     0.000000\n",
       "5                                   raw_ReasonForStop     0.000000\n",
       "2                                      search_vehicle     0.000000\n",
       "8                                            hispanic     0.022683\n",
       "33                                             Spring     0.053373\n",
       "19              violation_Moving Violation: Seat Belt     0.345888\n",
       "1                                       search_person     0.352676\n",
       "18                  violation_Moving Violation: Other     0.481877\n",
       "20                  violation_Moving Violation: Speed     0.910447"
      ]
     },
     "execution_count": 59,
     "metadata": {},
     "output_type": "execute_result"
    }
   ],
   "source": [
    "df"
   ]
  },
  {
   "cell_type": "markdown",
   "id": "19795233",
   "metadata": {},
   "source": [
    "#### Findings from SGD Classifier\n",
    "\n",
    "Like with the prior two models, the 'white' feature is more negative than the 'black' and 'hispanic' features. This also supports the findings in the original paper."
   ]
  },
  {
   "cell_type": "markdown",
   "id": "6f5f89bf",
   "metadata": {},
   "source": [
    "### Model Evaluation"
   ]
  },
  {
   "cell_type": "code",
   "execution_count": 60,
   "id": "7d96cce6",
   "metadata": {},
   "outputs": [
    {
     "data": {
      "text/html": [
       "<div>\n",
       "<style scoped>\n",
       "    .dataframe tbody tr th:only-of-type {\n",
       "        vertical-align: middle;\n",
       "    }\n",
       "\n",
       "    .dataframe tbody tr th {\n",
       "        vertical-align: top;\n",
       "    }\n",
       "\n",
       "    .dataframe thead th {\n",
       "        text-align: right;\n",
       "    }\n",
       "</style>\n",
       "<table border=\"1\" class=\"dataframe\">\n",
       "  <thead>\n",
       "    <tr style=\"text-align: right;\">\n",
       "      <th></th>\n",
       "      <th>Model</th>\n",
       "      <th>ROC AUC Score</th>\n",
       "      <th>Accuracy</th>\n",
       "      <th>Precision</th>\n",
       "      <th>Recall</th>\n",
       "      <th>F-Score</th>\n",
       "    </tr>\n",
       "  </thead>\n",
       "  <tbody>\n",
       "    <tr>\n",
       "      <th>0</th>\n",
       "      <td>Logistic Regression</td>\n",
       "      <td>0.610558</td>\n",
       "      <td>0.61464</td>\n",
       "      <td>0.613422</td>\n",
       "      <td>0.61464</td>\n",
       "      <td>0.612946</td>\n",
       "    </tr>\n",
       "    <tr>\n",
       "      <th>1</th>\n",
       "      <td>LinearSVC</td>\n",
       "      <td>0.610694</td>\n",
       "      <td>0.61480</td>\n",
       "      <td>0.613580</td>\n",
       "      <td>0.61480</td>\n",
       "      <td>0.613083</td>\n",
       "    </tr>\n",
       "    <tr>\n",
       "      <th>2</th>\n",
       "      <td>SGD Classifier</td>\n",
       "      <td>0.612213</td>\n",
       "      <td>0.61076</td>\n",
       "      <td>0.614048</td>\n",
       "      <td>0.61076</td>\n",
       "      <td>0.611025</td>\n",
       "    </tr>\n",
       "  </tbody>\n",
       "</table>\n",
       "</div>"
      ],
      "text/plain": [
       "                 Model  ROC AUC Score  Accuracy  Precision   Recall   F-Score\n",
       "0  Logistic Regression       0.610558   0.61464   0.613422  0.61464  0.612946\n",
       "1            LinearSVC       0.610694   0.61480   0.613580  0.61480  0.613083\n",
       "2       SGD Classifier       0.612213   0.61076   0.614048  0.61076  0.611025"
      ]
     },
     "execution_count": 60,
     "metadata": {},
     "output_type": "execute_result"
    }
   ],
   "source": [
    "performances = [logit_perf, lsvc_perf, sgdc_perf]\n",
    "\n",
    "pd.DataFrame(performances, columns=['Model','ROC AUC Score', 'Accuracy', 'Precision', 'Recall', 'F-Score'])"
   ]
  },
  {
   "cell_type": "code",
   "execution_count": 61,
   "id": "bc9ae741",
   "metadata": {},
   "outputs": [],
   "source": [
    "sns.set_style('white')"
   ]
  },
  {
   "cell_type": "code",
   "execution_count": 62,
   "id": "901cfdc7",
   "metadata": {},
   "outputs": [
    {
     "name": "stdout",
     "output_type": "stream",
     "text": [
      "Logistic Regression Model:\n"
     ]
    },
    {
     "data": {
      "image/png": "[encoded data removed]",
      "text/plain": [
       "<Figure size 360x288 with 2 Axes>"
      ]
     },
     "metadata": {},
     "output_type": "display_data"
    }
   ],
   "source": [
    "print('Logistic Regression Model:')\n",
    "logit_disp.plot();"
   ]
  },
  {
   "cell_type": "code",
   "execution_count": 63,
   "id": "80a5a49e",
   "metadata": {},
   "outputs": [
    {
     "name": "stdout",
     "output_type": "stream",
     "text": [
      "LinearSVC Model:\n"
     ]
    },
    {
     "data": {
      "image/png": "[encoded data removed]",
      "text/plain": [
       "<Figure size 360x288 with 2 Axes>"
      ]
     },
     "metadata": {},
     "output_type": "display_data"
    }
   ],
   "source": [
    "print('LinearSVC Model:')\n",
    "lsvc_disp.plot();"
   ]
  },
  {
   "cell_type": "code",
   "execution_count": 64,
   "id": "5048f989",
   "metadata": {},
   "outputs": [
    {
     "name": "stdout",
     "output_type": "stream",
     "text": [
      "SGD Classifier Model:\n"
     ]
    },
    {
     "data": {
      "image/png": "[encoded data removed]",
      "text/plain": [
       "<Figure size 360x288 with 2 Axes>"
      ]
     },
     "metadata": {},
     "output_type": "display_data"
    }
   ],
   "source": [
    "print('SGD Classifier Model:')\n",
    "sgdc_disp.plot();"
   ]
  },
  {
   "cell_type": "code",
   "execution_count": 65,
   "id": "9989f382",
   "metadata": {},
   "outputs": [],
   "source": [
    "sns.set_style('whitegrid')"
   ]
  },
  {
   "cell_type": "markdown",
   "id": "11980e12",
   "metadata": {},
   "source": [
    "These findings suggest that the second model, the Linear SVC model, performed the best on this data. It has the highest score in all of the classification evaluation metrics selected (ROC AUC Score, Accuracy, Precision, Recall, and F-Score)."
   ]
  },
  {
   "cell_type": "markdown",
   "id": "bdcc4031",
   "metadata": {},
   "source": [
    "## Conclusion 2: Black and Hispanic drivers are more likely to be searched than white drivers?"
   ]
  },
  {
   "cell_type": "code",
   "execution_count": 66,
   "id": "52cfda07",
   "metadata": {},
   "outputs": [
    {
     "data": {
      "image/png": "[encoded data removed]",
      "text/plain": [
       "<Figure size 360x360 with 1 Axes>"
      ]
     },
     "metadata": {},
     "output_type": "display_data"
    }
   ],
   "source": [
    "sns.factorplot('subject_race','search_conducted',order=['white', 'black', 'hispanic'],data=data,size=5);"
   ]
  },
  {
   "cell_type": "code",
   "execution_count": 67,
   "id": "22f952ad",
   "metadata": {},
   "outputs": [
    {
     "data": {
      "image/png": "[encoded data removed]",
      "text/plain": [
       "<Figure size 1080x720 with 2 Axes>"
      ]
     },
     "metadata": {},
     "output_type": "display_data"
    }
   ],
   "source": [
    "fig, (ax1,ax2) = plt.subplots(1,2,figsize=(15,10))\n",
    "\n",
    "sns.countplot(x='subject_race', data=data, ax=ax1, order=['white','black','hispanic', 'asian/pacific islander', 'other'])\n",
    "race = data[[\"subject_race\", \"search_conducted\"]]\n",
    "sns.barplot(x='subject_race', y='search_conducted', data=race, ax=ax2, order=['white','black','hispanic']);"
   ]
  },
  {
   "cell_type": "markdown",
   "id": "356d147d",
   "metadata": {},
   "source": [
    "Uses same feature variables, but different target variable."
   ]
  },
  {
   "cell_type": "code",
   "execution_count": 68,
   "id": "4385b428",
   "metadata": {},
   "outputs": [],
   "source": [
    "features = [\n",
    "       'vehicle_year',\n",
    "       'asian/pacific islander', 'black', 'hispanic',\n",
    "       'other', 'white', 'female', 'male', 'violation_Equipment', 'department_id',\n",
    "       'violation_Commercial Vehicle','violation_License Plate/Registration',\n",
    "       'violation_Moving Violation: Follow too close',\n",
    "       'violation_Moving Violation: Lane Violation',\n",
    "       'violation_Moving Violation: Other',\n",
    "       'violation_Moving Violation: Seat Belt',\n",
    "       'violation_Moving Violation: Speed',\n",
    "       'violation_Moving Violation: Traffic Sign or Signal',  'Early Morning', 'Evening',\n",
    "       'Late Afternoon', 'Late Morning', 'Late Night', 'Morning', 'Night',\n",
    "       'Noon', 'rural_location', 'urban_location', 'Fall', 'Spring', 'Summer',\n",
    "       'Winter']"
   ]
  },
  {
   "cell_type": "markdown",
   "id": "985539cd",
   "metadata": {},
   "source": [
    "Dataset is unbalanced; far more non-search than search samples. To combat this, even out classes by selected randomly the same number of unsearched samples as there are searched samples. "
   ]
  },
  {
   "cell_type": "code",
   "execution_count": 69,
   "id": "d8cf765a",
   "metadata": {},
   "outputs": [],
   "source": [
    "search = data.loc[data['search_conducted'] == 1]\n",
    "no_search = data.loc[data['search_conducted'] == 0]"
   ]
  },
  {
   "cell_type": "code",
   "execution_count": 70,
   "id": "d7f353d7",
   "metadata": {},
   "outputs": [],
   "source": [
    "no_search_small = no_search.sample(n=len(search), random_state=42)\n",
    "data_balanced = pd.concat([search, no_search_small], axis=0)"
   ]
  },
  {
   "cell_type": "code",
   "execution_count": 71,
   "id": "f7027ba3",
   "metadata": {},
   "outputs": [],
   "source": [
    "X = np.array(data_balanced[features]) \n",
    "y = np.array(data_balanced['search_conducted'])"
   ]
  },
  {
   "cell_type": "code",
   "execution_count": 72,
   "id": "48861429",
   "metadata": {},
   "outputs": [
    {
     "data": {
      "text/plain": [
       "Counter({1: 4542, 0: 4542})"
      ]
     },
     "execution_count": 72,
     "metadata": {},
     "output_type": "execute_result"
    }
   ],
   "source": [
    "from collections import Counter\n",
    "Counter(y)"
   ]
  },
  {
   "cell_type": "markdown",
   "id": "4c7d2494",
   "metadata": {},
   "source": [
    "### Logistic Regression"
   ]
  },
  {
   "cell_type": "code",
   "execution_count": 73,
   "id": "6455e962",
   "metadata": {},
   "outputs": [
    {
     "data": {
      "text/html": [
       "<div>\n",
       "<style scoped>\n",
       "    .dataframe tbody tr th:only-of-type {\n",
       "        vertical-align: middle;\n",
       "    }\n",
       "\n",
       "    .dataframe tbody tr th {\n",
       "        vertical-align: top;\n",
       "    }\n",
       "\n",
       "    .dataframe thead th {\n",
       "        text-align: right;\n",
       "    }\n",
       "</style>\n",
       "<table border=\"1\" class=\"dataframe\">\n",
       "  <thead>\n",
       "    <tr style=\"text-align: right;\">\n",
       "      <th></th>\n",
       "      <th>min</th>\n",
       "      <th>max</th>\n",
       "      <th>mean_abs</th>\n",
       "      <th>n_zero</th>\n",
       "      <th>test_score</th>\n",
       "    </tr>\n",
       "  </thead>\n",
       "  <tbody>\n",
       "    <tr>\n",
       "      <th>none</th>\n",
       "      <td>-0.814</td>\n",
       "      <td>0.209</td>\n",
       "      <td>0.152</td>\n",
       "      <td>0</td>\n",
       "      <td>0.658</td>\n",
       "    </tr>\n",
       "    <tr>\n",
       "      <th>l1</th>\n",
       "      <td>-0.332</td>\n",
       "      <td>0.168</td>\n",
       "      <td>0.107</td>\n",
       "      <td>3</td>\n",
       "      <td>0.658</td>\n",
       "    </tr>\n",
       "    <tr>\n",
       "      <th>l2</th>\n",
       "      <td>-0.334</td>\n",
       "      <td>0.209</td>\n",
       "      <td>0.108</td>\n",
       "      <td>0</td>\n",
       "      <td>0.658</td>\n",
       "    </tr>\n",
       "  </tbody>\n",
       "</table>\n",
       "</div>"
      ],
      "text/plain": [
       "        min    max  mean_abs  n_zero  test_score\n",
       "none -0.814  0.209     0.152       0       0.658\n",
       "l1   -0.332  0.168     0.107       3       0.658\n",
       "l2   -0.334  0.209     0.108       0       0.658"
      ]
     },
     "execution_count": 73,
     "metadata": {},
     "output_type": "execute_result"
    }
   ],
   "source": [
    "compare_penalty_logit(X, y)"
   ]
  },
  {
   "cell_type": "code",
   "execution_count": 74,
   "id": "4576cb51",
   "metadata": {},
   "outputs": [
    {
     "data": {
      "text/html": [
       "<div>\n",
       "<style scoped>\n",
       "    .dataframe tbody tr th:only-of-type {\n",
       "        vertical-align: middle;\n",
       "    }\n",
       "\n",
       "    .dataframe tbody tr th {\n",
       "        vertical-align: top;\n",
       "    }\n",
       "\n",
       "    .dataframe thead th {\n",
       "        text-align: right;\n",
       "    }\n",
       "</style>\n",
       "<table border=\"1\" class=\"dataframe\">\n",
       "  <thead>\n",
       "    <tr style=\"text-align: right;\">\n",
       "      <th></th>\n",
       "      <th>c</th>\n",
       "      <th>min</th>\n",
       "      <th>max</th>\n",
       "      <th>mean_abs</th>\n",
       "      <th>n_zero</th>\n",
       "      <th>test_score</th>\n",
       "    </tr>\n",
       "  </thead>\n",
       "  <tbody>\n",
       "    <tr>\n",
       "      <th>0</th>\n",
       "      <td>0.001</td>\n",
       "      <td>0.000</td>\n",
       "      <td>0.000</td>\n",
       "      <td>0.000</td>\n",
       "      <td>32</td>\n",
       "      <td>0.498</td>\n",
       "    </tr>\n",
       "    <tr>\n",
       "      <th>1</th>\n",
       "      <td>0.010</td>\n",
       "      <td>-0.245</td>\n",
       "      <td>0.159</td>\n",
       "      <td>0.059</td>\n",
       "      <td>12</td>\n",
       "      <td>0.653</td>\n",
       "    </tr>\n",
       "    <tr>\n",
       "      <th>2</th>\n",
       "      <td>0.100</td>\n",
       "      <td>-0.323</td>\n",
       "      <td>0.165</td>\n",
       "      <td>0.101</td>\n",
       "      <td>4</td>\n",
       "      <td>0.659</td>\n",
       "    </tr>\n",
       "    <tr>\n",
       "      <th>3</th>\n",
       "      <td>1.000</td>\n",
       "      <td>-0.332</td>\n",
       "      <td>0.168</td>\n",
       "      <td>0.107</td>\n",
       "      <td>3</td>\n",
       "      <td>0.658</td>\n",
       "    </tr>\n",
       "    <tr>\n",
       "      <th>4</th>\n",
       "      <td>10.000</td>\n",
       "      <td>-0.461</td>\n",
       "      <td>0.189</td>\n",
       "      <td>0.118</td>\n",
       "      <td>1</td>\n",
       "      <td>0.658</td>\n",
       "    </tr>\n",
       "    <tr>\n",
       "      <th>5</th>\n",
       "      <td>100.000</td>\n",
       "      <td>-0.777</td>\n",
       "      <td>0.207</td>\n",
       "      <td>0.149</td>\n",
       "      <td>0</td>\n",
       "      <td>0.658</td>\n",
       "    </tr>\n",
       "  </tbody>\n",
       "</table>\n",
       "</div>"
      ],
      "text/plain": [
       "         c    min    max  mean_abs  n_zero  test_score\n",
       "0    0.001  0.000  0.000     0.000      32       0.498\n",
       "1    0.010 -0.245  0.159     0.059      12       0.653\n",
       "2    0.100 -0.323  0.165     0.101       4       0.659\n",
       "3    1.000 -0.332  0.168     0.107       3       0.658\n",
       "4   10.000 -0.461  0.189     0.118       1       0.658\n",
       "5  100.000 -0.777  0.207     0.149       0       0.658"
      ]
     },
     "execution_count": 74,
     "metadata": {},
     "output_type": "execute_result"
    }
   ],
   "source": [
    "compare_c_logit(X, y, p='l1', s='saga')"
   ]
  },
  {
   "cell_type": "code",
   "execution_count": 75,
   "id": "5557a96c",
   "metadata": {},
   "outputs": [
    {
     "name": "stdout",
     "output_type": "stream",
     "text": [
      "10-fold CV F1 score: 0.667 +/- 0.019\n",
      "10-fold CV ROC_AUC score: 0.717 +/- 0.017\n"
     ]
    },
    {
     "data": {
      "image/png": "[encoded data removed]",
      "text/plain": [
       "<Figure size 432x864 with 1 Axes>"
      ]
     },
     "metadata": {},
     "output_type": "display_data"
    }
   ],
   "source": [
    "df, logit_perf, logit_disp = Logit(data_balanced, 'search_conducted', 'l1', .1)"
   ]
  },
  {
   "cell_type": "code",
   "execution_count": 76,
   "id": "dc2ab06d",
   "metadata": {},
   "outputs": [
    {
     "data": {
      "text/html": [
       "<div>\n",
       "<style scoped>\n",
       "    .dataframe tbody tr th:only-of-type {\n",
       "        vertical-align: middle;\n",
       "    }\n",
       "\n",
       "    .dataframe tbody tr th {\n",
       "        vertical-align: top;\n",
       "    }\n",
       "\n",
       "    .dataframe thead th {\n",
       "        text-align: right;\n",
       "    }\n",
       "</style>\n",
       "<table border=\"1\" class=\"dataframe\">\n",
       "  <thead>\n",
       "    <tr style=\"text-align: right;\">\n",
       "      <th></th>\n",
       "      <th>Features</th>\n",
       "      <th>Coefficient</th>\n",
       "    </tr>\n",
       "  </thead>\n",
       "  <tbody>\n",
       "    <tr>\n",
       "      <th>0</th>\n",
       "      <td>vehicle_year</td>\n",
       "      <td>-0.313076</td>\n",
       "    </tr>\n",
       "    <tr>\n",
       "      <th>1</th>\n",
       "      <td>asian/pacific islander</td>\n",
       "      <td>-0.200854</td>\n",
       "    </tr>\n",
       "    <tr>\n",
       "      <th>16</th>\n",
       "      <td>violation_Moving Violation: Speed</td>\n",
       "      <td>-0.197838</td>\n",
       "    </tr>\n",
       "    <tr>\n",
       "      <th>5</th>\n",
       "      <td>white</td>\n",
       "      <td>-0.194700</td>\n",
       "    </tr>\n",
       "    <tr>\n",
       "      <th>21</th>\n",
       "      <td>Late Morning</td>\n",
       "      <td>-0.171006</td>\n",
       "    </tr>\n",
       "    <tr>\n",
       "      <th>10</th>\n",
       "      <td>violation_Commercial Vehicle</td>\n",
       "      <td>-0.155251</td>\n",
       "    </tr>\n",
       "    <tr>\n",
       "      <th>23</th>\n",
       "      <td>Morning</td>\n",
       "      <td>-0.134660</td>\n",
       "    </tr>\n",
       "    <tr>\n",
       "      <th>26</th>\n",
       "      <td>rural_location</td>\n",
       "      <td>-0.120900</td>\n",
       "    </tr>\n",
       "    <tr>\n",
       "      <th>20</th>\n",
       "      <td>Late Afternoon</td>\n",
       "      <td>-0.098100</td>\n",
       "    </tr>\n",
       "    <tr>\n",
       "      <th>6</th>\n",
       "      <td>female</td>\n",
       "      <td>-0.094364</td>\n",
       "    </tr>\n",
       "    <tr>\n",
       "      <th>25</th>\n",
       "      <td>Noon</td>\n",
       "      <td>-0.084286</td>\n",
       "    </tr>\n",
       "    <tr>\n",
       "      <th>17</th>\n",
       "      <td>violation_Moving Violation: Traffic Sign or Si...</td>\n",
       "      <td>-0.077294</td>\n",
       "    </tr>\n",
       "    <tr>\n",
       "      <th>30</th>\n",
       "      <td>Summer</td>\n",
       "      <td>-0.042739</td>\n",
       "    </tr>\n",
       "    <tr>\n",
       "      <th>15</th>\n",
       "      <td>violation_Moving Violation: Seat Belt</td>\n",
       "      <td>-0.036335</td>\n",
       "    </tr>\n",
       "    <tr>\n",
       "      <th>12</th>\n",
       "      <td>violation_Moving Violation: Follow too close</td>\n",
       "      <td>-0.024602</td>\n",
       "    </tr>\n",
       "    <tr>\n",
       "      <th>29</th>\n",
       "      <td>Spring</td>\n",
       "      <td>-0.009597</td>\n",
       "    </tr>\n",
       "    <tr>\n",
       "      <th>4</th>\n",
       "      <td>other</td>\n",
       "      <td>-0.001222</td>\n",
       "    </tr>\n",
       "    <tr>\n",
       "      <th>8</th>\n",
       "      <td>violation_Equipment</td>\n",
       "      <td>0.000654</td>\n",
       "    </tr>\n",
       "    <tr>\n",
       "      <th>28</th>\n",
       "      <td>Fall</td>\n",
       "      <td>0.012936</td>\n",
       "    </tr>\n",
       "    <tr>\n",
       "      <th>18</th>\n",
       "      <td>Early Morning</td>\n",
       "      <td>0.016388</td>\n",
       "    </tr>\n",
       "    <tr>\n",
       "      <th>31</th>\n",
       "      <td>Winter</td>\n",
       "      <td>0.023730</td>\n",
       "    </tr>\n",
       "    <tr>\n",
       "      <th>19</th>\n",
       "      <td>Evening</td>\n",
       "      <td>0.033287</td>\n",
       "    </tr>\n",
       "    <tr>\n",
       "      <th>11</th>\n",
       "      <td>violation_License Plate/Registration</td>\n",
       "      <td>0.046921</td>\n",
       "    </tr>\n",
       "    <tr>\n",
       "      <th>7</th>\n",
       "      <td>male</td>\n",
       "      <td>0.094364</td>\n",
       "    </tr>\n",
       "    <tr>\n",
       "      <th>3</th>\n",
       "      <td>hispanic</td>\n",
       "      <td>0.101099</td>\n",
       "    </tr>\n",
       "    <tr>\n",
       "      <th>24</th>\n",
       "      <td>Night</td>\n",
       "      <td>0.108959</td>\n",
       "    </tr>\n",
       "    <tr>\n",
       "      <th>2</th>\n",
       "      <td>black</td>\n",
       "      <td>0.113663</td>\n",
       "    </tr>\n",
       "    <tr>\n",
       "      <th>27</th>\n",
       "      <td>urban_location</td>\n",
       "      <td>0.120900</td>\n",
       "    </tr>\n",
       "    <tr>\n",
       "      <th>9</th>\n",
       "      <td>department_id</td>\n",
       "      <td>0.141896</td>\n",
       "    </tr>\n",
       "    <tr>\n",
       "      <th>14</th>\n",
       "      <td>violation_Moving Violation: Other</td>\n",
       "      <td>0.146152</td>\n",
       "    </tr>\n",
       "    <tr>\n",
       "      <th>13</th>\n",
       "      <td>violation_Moving Violation: Lane Violation</td>\n",
       "      <td>0.152023</td>\n",
       "    </tr>\n",
       "    <tr>\n",
       "      <th>22</th>\n",
       "      <td>Late Night</td>\n",
       "      <td>0.206828</td>\n",
       "    </tr>\n",
       "  </tbody>\n",
       "</table>\n",
       "</div>"
      ],
      "text/plain": [
       "                                             Features  Coefficient\n",
       "0                                        vehicle_year    -0.313076\n",
       "1                              asian/pacific islander    -0.200854\n",
       "16                  violation_Moving Violation: Speed    -0.197838\n",
       "5                                               white    -0.194700\n",
       "21                                       Late Morning    -0.171006\n",
       "10                       violation_Commercial Vehicle    -0.155251\n",
       "23                                            Morning    -0.134660\n",
       "26                                     rural_location    -0.120900\n",
       "20                                     Late Afternoon    -0.098100\n",
       "6                                              female    -0.094364\n",
       "25                                               Noon    -0.084286\n",
       "17  violation_Moving Violation: Traffic Sign or Si...    -0.077294\n",
       "30                                             Summer    -0.042739\n",
       "15              violation_Moving Violation: Seat Belt    -0.036335\n",
       "12       violation_Moving Violation: Follow too close    -0.024602\n",
       "29                                             Spring    -0.009597\n",
       "4                                               other    -0.001222\n",
       "8                                 violation_Equipment     0.000654\n",
       "28                                               Fall     0.012936\n",
       "18                                      Early Morning     0.016388\n",
       "31                                             Winter     0.023730\n",
       "19                                            Evening     0.033287\n",
       "11               violation_License Plate/Registration     0.046921\n",
       "7                                                male     0.094364\n",
       "3                                            hispanic     0.101099\n",
       "24                                              Night     0.108959\n",
       "2                                               black     0.113663\n",
       "27                                     urban_location     0.120900\n",
       "9                                       department_id     0.141896\n",
       "14                  violation_Moving Violation: Other     0.146152\n",
       "13         violation_Moving Violation: Lane Violation     0.152023\n",
       "22                                         Late Night     0.206828"
      ]
     },
     "execution_count": 76,
     "metadata": {},
     "output_type": "execute_result"
    }
   ],
   "source": [
    "df"
   ]
  },
  {
   "cell_type": "markdown",
   "id": "ddddcf99",
   "metadata": {},
   "source": [
    "### Linear SVC"
   ]
  },
  {
   "cell_type": "code",
   "execution_count": 77,
   "id": "5533e966",
   "metadata": {},
   "outputs": [
    {
     "data": {
      "text/html": [
       "<div>\n",
       "<style scoped>\n",
       "    .dataframe tbody tr th:only-of-type {\n",
       "        vertical-align: middle;\n",
       "    }\n",
       "\n",
       "    .dataframe tbody tr th {\n",
       "        vertical-align: top;\n",
       "    }\n",
       "\n",
       "    .dataframe thead th {\n",
       "        text-align: right;\n",
       "    }\n",
       "</style>\n",
       "<table border=\"1\" class=\"dataframe\">\n",
       "  <thead>\n",
       "    <tr style=\"text-align: right;\">\n",
       "      <th></th>\n",
       "      <th>min</th>\n",
       "      <th>max</th>\n",
       "      <th>mean_abs</th>\n",
       "      <th>n_zero</th>\n",
       "      <th>test_score</th>\n",
       "    </tr>\n",
       "  </thead>\n",
       "  <tbody>\n",
       "    <tr>\n",
       "      <th>l1</th>\n",
       "      <td>-0.146</td>\n",
       "      <td>0.115</td>\n",
       "      <td>0.048</td>\n",
       "      <td>0</td>\n",
       "      <td>0.657</td>\n",
       "    </tr>\n",
       "    <tr>\n",
       "      <th>l2</th>\n",
       "      <td>-0.352</td>\n",
       "      <td>0.215</td>\n",
       "      <td>0.116</td>\n",
       "      <td>0</td>\n",
       "      <td>0.658</td>\n",
       "    </tr>\n",
       "  </tbody>\n",
       "</table>\n",
       "</div>"
      ],
      "text/plain": [
       "      min    max  mean_abs  n_zero  test_score\n",
       "l1 -0.146  0.115     0.048       0       0.657\n",
       "l2 -0.352  0.215     0.116       0       0.658"
      ]
     },
     "execution_count": 77,
     "metadata": {},
     "output_type": "execute_result"
    }
   ],
   "source": [
    "compare_penalty_lsvc(X, y)"
   ]
  },
  {
   "cell_type": "code",
   "execution_count": 78,
   "id": "6a2673f6",
   "metadata": {},
   "outputs": [
    {
     "data": {
      "text/html": [
       "<div>\n",
       "<style scoped>\n",
       "    .dataframe tbody tr th:only-of-type {\n",
       "        vertical-align: middle;\n",
       "    }\n",
       "\n",
       "    .dataframe tbody tr th {\n",
       "        vertical-align: top;\n",
       "    }\n",
       "\n",
       "    .dataframe thead th {\n",
       "        text-align: right;\n",
       "    }\n",
       "</style>\n",
       "<table border=\"1\" class=\"dataframe\">\n",
       "  <thead>\n",
       "    <tr style=\"text-align: right;\">\n",
       "      <th></th>\n",
       "      <th>c</th>\n",
       "      <th>min</th>\n",
       "      <th>max</th>\n",
       "      <th>mean_abs</th>\n",
       "      <th>n_zero</th>\n",
       "      <th>test_score</th>\n",
       "    </tr>\n",
       "  </thead>\n",
       "  <tbody>\n",
       "    <tr>\n",
       "      <th>0</th>\n",
       "      <td>0.001</td>\n",
       "      <td>-0.119</td>\n",
       "      <td>0.085</td>\n",
       "      <td>0.044</td>\n",
       "      <td>0</td>\n",
       "      <td>0.658</td>\n",
       "    </tr>\n",
       "    <tr>\n",
       "      <th>1</th>\n",
       "      <td>0.010</td>\n",
       "      <td>-0.126</td>\n",
       "      <td>0.090</td>\n",
       "      <td>0.047</td>\n",
       "      <td>0</td>\n",
       "      <td>0.656</td>\n",
       "    </tr>\n",
       "    <tr>\n",
       "      <th>2</th>\n",
       "      <td>0.100</td>\n",
       "      <td>-0.127</td>\n",
       "      <td>0.091</td>\n",
       "      <td>0.047</td>\n",
       "      <td>0</td>\n",
       "      <td>0.656</td>\n",
       "    </tr>\n",
       "    <tr>\n",
       "      <th>3</th>\n",
       "      <td>1.000</td>\n",
       "      <td>-0.127</td>\n",
       "      <td>0.091</td>\n",
       "      <td>0.047</td>\n",
       "      <td>0</td>\n",
       "      <td>0.656</td>\n",
       "    </tr>\n",
       "    <tr>\n",
       "      <th>4</th>\n",
       "      <td>10.000</td>\n",
       "      <td>-0.127</td>\n",
       "      <td>0.091</td>\n",
       "      <td>0.047</td>\n",
       "      <td>0</td>\n",
       "      <td>0.656</td>\n",
       "    </tr>\n",
       "    <tr>\n",
       "      <th>5</th>\n",
       "      <td>100.000</td>\n",
       "      <td>-0.127</td>\n",
       "      <td>0.091</td>\n",
       "      <td>0.047</td>\n",
       "      <td>0</td>\n",
       "      <td>0.656</td>\n",
       "    </tr>\n",
       "  </tbody>\n",
       "</table>\n",
       "</div>"
      ],
      "text/plain": [
       "         c    min    max  mean_abs  n_zero  test_score\n",
       "0    0.001 -0.119  0.085     0.044       0       0.658\n",
       "1    0.010 -0.126  0.090     0.047       0       0.656\n",
       "2    0.100 -0.127  0.091     0.047       0       0.656\n",
       "3    1.000 -0.127  0.091     0.047       0       0.656\n",
       "4   10.000 -0.127  0.091     0.047       0       0.656\n",
       "5  100.000 -0.127  0.091     0.047       0       0.656"
      ]
     },
     "execution_count": 78,
     "metadata": {},
     "output_type": "execute_result"
    }
   ],
   "source": [
    "compare_c_lsvc(X, y, p='l2',s='squared_hinge', d=False)"
   ]
  },
  {
   "cell_type": "code",
   "execution_count": 79,
   "id": "68d2e203",
   "metadata": {},
   "outputs": [
    {
     "name": "stdout",
     "output_type": "stream",
     "text": [
      "10-fold CV F1 score: 0.667 +/- 0.020\n",
      "10-fold CV ROC_AUC score: 0.718 +/- 0.018\n"
     ]
    },
    {
     "data": {
      "image/png": "[encoded data removed]",
      "text/plain": [
       "<Figure size 432x864 with 1 Axes>"
      ]
     },
     "metadata": {},
     "output_type": "display_data"
    }
   ],
   "source": [
    "df, lsvc_perf, lsvc_disp = lSVC(data_balanced, 'search_conducted', p='l2', c= .001, s='squared_hinge', d=False)"
   ]
  },
  {
   "cell_type": "code",
   "execution_count": 80,
   "id": "e300dcc8",
   "metadata": {},
   "outputs": [
    {
     "data": {
      "text/html": [
       "<div>\n",
       "<style scoped>\n",
       "    .dataframe tbody tr th:only-of-type {\n",
       "        vertical-align: middle;\n",
       "    }\n",
       "\n",
       "    .dataframe tbody tr th {\n",
       "        vertical-align: top;\n",
       "    }\n",
       "\n",
       "    .dataframe thead th {\n",
       "        text-align: right;\n",
       "    }\n",
       "</style>\n",
       "<table border=\"1\" class=\"dataframe\">\n",
       "  <thead>\n",
       "    <tr style=\"text-align: right;\">\n",
       "      <th></th>\n",
       "      <th>Features</th>\n",
       "      <th>Coefficient</th>\n",
       "    </tr>\n",
       "  </thead>\n",
       "  <tbody>\n",
       "    <tr>\n",
       "      <th>0</th>\n",
       "      <td>vehicle_year</td>\n",
       "      <td>-0.121447</td>\n",
       "    </tr>\n",
       "    <tr>\n",
       "      <th>16</th>\n",
       "      <td>violation_Moving Violation: Speed</td>\n",
       "      <td>-0.079510</td>\n",
       "    </tr>\n",
       "    <tr>\n",
       "      <th>1</th>\n",
       "      <td>asian/pacific islander</td>\n",
       "      <td>-0.072818</td>\n",
       "    </tr>\n",
       "    <tr>\n",
       "      <th>5</th>\n",
       "      <td>white</td>\n",
       "      <td>-0.072647</td>\n",
       "    </tr>\n",
       "    <tr>\n",
       "      <th>21</th>\n",
       "      <td>Late Morning</td>\n",
       "      <td>-0.070500</td>\n",
       "    </tr>\n",
       "    <tr>\n",
       "      <th>10</th>\n",
       "      <td>violation_Commercial Vehicle</td>\n",
       "      <td>-0.057449</td>\n",
       "    </tr>\n",
       "    <tr>\n",
       "      <th>23</th>\n",
       "      <td>Morning</td>\n",
       "      <td>-0.053539</td>\n",
       "    </tr>\n",
       "    <tr>\n",
       "      <th>26</th>\n",
       "      <td>rural_location</td>\n",
       "      <td>-0.051287</td>\n",
       "    </tr>\n",
       "    <tr>\n",
       "      <th>6</th>\n",
       "      <td>female</td>\n",
       "      <td>-0.043776</td>\n",
       "    </tr>\n",
       "    <tr>\n",
       "      <th>20</th>\n",
       "      <td>Late Afternoon</td>\n",
       "      <td>-0.038718</td>\n",
       "    </tr>\n",
       "    <tr>\n",
       "      <th>25</th>\n",
       "      <td>Noon</td>\n",
       "      <td>-0.035628</td>\n",
       "    </tr>\n",
       "    <tr>\n",
       "      <th>17</th>\n",
       "      <td>violation_Moving Violation: Traffic Sign or Si...</td>\n",
       "      <td>-0.032130</td>\n",
       "    </tr>\n",
       "    <tr>\n",
       "      <th>30</th>\n",
       "      <td>Summer</td>\n",
       "      <td>-0.018977</td>\n",
       "    </tr>\n",
       "    <tr>\n",
       "      <th>15</th>\n",
       "      <td>violation_Moving Violation: Seat Belt</td>\n",
       "      <td>-0.017263</td>\n",
       "    </tr>\n",
       "    <tr>\n",
       "      <th>12</th>\n",
       "      <td>violation_Moving Violation: Follow too close</td>\n",
       "      <td>-0.010041</td>\n",
       "    </tr>\n",
       "    <tr>\n",
       "      <th>29</th>\n",
       "      <td>Spring</td>\n",
       "      <td>-0.005000</td>\n",
       "    </tr>\n",
       "    <tr>\n",
       "      <th>4</th>\n",
       "      <td>other</td>\n",
       "      <td>-0.004672</td>\n",
       "    </tr>\n",
       "    <tr>\n",
       "      <th>28</th>\n",
       "      <td>Fall</td>\n",
       "      <td>0.008996</td>\n",
       "    </tr>\n",
       "    <tr>\n",
       "      <th>8</th>\n",
       "      <td>violation_Equipment</td>\n",
       "      <td>0.010364</td>\n",
       "    </tr>\n",
       "    <tr>\n",
       "      <th>31</th>\n",
       "      <td>Winter</td>\n",
       "      <td>0.015106</td>\n",
       "    </tr>\n",
       "    <tr>\n",
       "      <th>18</th>\n",
       "      <td>Early Morning</td>\n",
       "      <td>0.015472</td>\n",
       "    </tr>\n",
       "    <tr>\n",
       "      <th>19</th>\n",
       "      <td>Evening</td>\n",
       "      <td>0.017549</td>\n",
       "    </tr>\n",
       "    <tr>\n",
       "      <th>11</th>\n",
       "      <td>violation_License Plate/Registration</td>\n",
       "      <td>0.026475</td>\n",
       "    </tr>\n",
       "    <tr>\n",
       "      <th>7</th>\n",
       "      <td>male</td>\n",
       "      <td>0.043776</td>\n",
       "    </tr>\n",
       "    <tr>\n",
       "      <th>24</th>\n",
       "      <td>Night</td>\n",
       "      <td>0.048900</td>\n",
       "    </tr>\n",
       "    <tr>\n",
       "      <th>27</th>\n",
       "      <td>urban_location</td>\n",
       "      <td>0.051287</td>\n",
       "    </tr>\n",
       "    <tr>\n",
       "      <th>3</th>\n",
       "      <td>hispanic</td>\n",
       "      <td>0.053084</td>\n",
       "    </tr>\n",
       "    <tr>\n",
       "      <th>9</th>\n",
       "      <td>department_id</td>\n",
       "      <td>0.061487</td>\n",
       "    </tr>\n",
       "    <tr>\n",
       "      <th>2</th>\n",
       "      <td>black</td>\n",
       "      <td>0.062473</td>\n",
       "    </tr>\n",
       "    <tr>\n",
       "      <th>14</th>\n",
       "      <td>violation_Moving Violation: Other</td>\n",
       "      <td>0.066589</td>\n",
       "    </tr>\n",
       "    <tr>\n",
       "      <th>13</th>\n",
       "      <td>violation_Moving Violation: Lane Violation</td>\n",
       "      <td>0.069754</td>\n",
       "    </tr>\n",
       "    <tr>\n",
       "      <th>22</th>\n",
       "      <td>Late Night</td>\n",
       "      <td>0.088281</td>\n",
       "    </tr>\n",
       "  </tbody>\n",
       "</table>\n",
       "</div>"
      ],
      "text/plain": [
       "                                             Features  Coefficient\n",
       "0                                        vehicle_year    -0.121447\n",
       "16                  violation_Moving Violation: Speed    -0.079510\n",
       "1                              asian/pacific islander    -0.072818\n",
       "5                                               white    -0.072647\n",
       "21                                       Late Morning    -0.070500\n",
       "10                       violation_Commercial Vehicle    -0.057449\n",
       "23                                            Morning    -0.053539\n",
       "26                                     rural_location    -0.051287\n",
       "6                                              female    -0.043776\n",
       "20                                     Late Afternoon    -0.038718\n",
       "25                                               Noon    -0.035628\n",
       "17  violation_Moving Violation: Traffic Sign or Si...    -0.032130\n",
       "30                                             Summer    -0.018977\n",
       "15              violation_Moving Violation: Seat Belt    -0.017263\n",
       "12       violation_Moving Violation: Follow too close    -0.010041\n",
       "29                                             Spring    -0.005000\n",
       "4                                               other    -0.004672\n",
       "28                                               Fall     0.008996\n",
       "8                                 violation_Equipment     0.010364\n",
       "31                                             Winter     0.015106\n",
       "18                                      Early Morning     0.015472\n",
       "19                                            Evening     0.017549\n",
       "11               violation_License Plate/Registration     0.026475\n",
       "7                                                male     0.043776\n",
       "24                                              Night     0.048900\n",
       "27                                     urban_location     0.051287\n",
       "3                                            hispanic     0.053084\n",
       "9                                       department_id     0.061487\n",
       "2                                               black     0.062473\n",
       "14                  violation_Moving Violation: Other     0.066589\n",
       "13         violation_Moving Violation: Lane Violation     0.069754\n",
       "22                                         Late Night     0.088281"
      ]
     },
     "execution_count": 80,
     "metadata": {},
     "output_type": "execute_result"
    }
   ],
   "source": [
    "df"
   ]
  },
  {
   "cell_type": "markdown",
   "id": "54f71f12",
   "metadata": {},
   "source": [
    "### SGDClassifier"
   ]
  },
  {
   "cell_type": "code",
   "execution_count": 81,
   "id": "bff6d60d",
   "metadata": {},
   "outputs": [
    {
     "data": {
      "text/html": [
       "<div>\n",
       "<style scoped>\n",
       "    .dataframe tbody tr th:only-of-type {\n",
       "        vertical-align: middle;\n",
       "    }\n",
       "\n",
       "    .dataframe tbody tr th {\n",
       "        vertical-align: top;\n",
       "    }\n",
       "\n",
       "    .dataframe thead th {\n",
       "        text-align: right;\n",
       "    }\n",
       "</style>\n",
       "<table border=\"1\" class=\"dataframe\">\n",
       "  <thead>\n",
       "    <tr style=\"text-align: right;\">\n",
       "      <th></th>\n",
       "      <th>min</th>\n",
       "      <th>max</th>\n",
       "      <th>mean_abs</th>\n",
       "      <th>n_zero</th>\n",
       "      <th>test_score</th>\n",
       "    </tr>\n",
       "  </thead>\n",
       "  <tbody>\n",
       "    <tr>\n",
       "      <th>l1</th>\n",
       "      <td>-0.731</td>\n",
       "      <td>0.348</td>\n",
       "      <td>0.129</td>\n",
       "      <td>15</td>\n",
       "      <td>0.641</td>\n",
       "    </tr>\n",
       "    <tr>\n",
       "      <th>l2</th>\n",
       "      <td>-0.504</td>\n",
       "      <td>0.356</td>\n",
       "      <td>0.142</td>\n",
       "      <td>0</td>\n",
       "      <td>0.615</td>\n",
       "    </tr>\n",
       "  </tbody>\n",
       "</table>\n",
       "</div>"
      ],
      "text/plain": [
       "      min    max  mean_abs  n_zero  test_score\n",
       "l1 -0.731  0.348     0.129      15       0.641\n",
       "l2 -0.504  0.356     0.142       0       0.615"
      ]
     },
     "execution_count": 81,
     "metadata": {},
     "output_type": "execute_result"
    }
   ],
   "source": [
    "compare_penalty_sgdc(X, y)"
   ]
  },
  {
   "cell_type": "code",
   "execution_count": 82,
   "id": "8ca39f2f",
   "metadata": {},
   "outputs": [
    {
     "name": "stdout",
     "output_type": "stream",
     "text": [
      "10-fold CV F1 score: 0.639 +/- 0.035\n",
      "10-fold CV ROC_AUC score: 0.669 +/- 0.019\n"
     ]
    },
    {
     "data": {
      "image/png": "[encoded data removed]",
      "text/plain": [
       "<Figure size 432x864 with 1 Axes>"
      ]
     },
     "metadata": {},
     "output_type": "display_data"
    }
   ],
   "source": [
    "df, sgdc_perf, sgdc_disp = SGDC(data_balanced, 'search_conducted', 'l2')"
   ]
  },
  {
   "cell_type": "code",
   "execution_count": 83,
   "id": "38b760a3",
   "metadata": {},
   "outputs": [
    {
     "data": {
      "text/html": [
       "<div>\n",
       "<style scoped>\n",
       "    .dataframe tbody tr th:only-of-type {\n",
       "        vertical-align: middle;\n",
       "    }\n",
       "\n",
       "    .dataframe tbody tr th {\n",
       "        vertical-align: top;\n",
       "    }\n",
       "\n",
       "    .dataframe thead th {\n",
       "        text-align: right;\n",
       "    }\n",
       "</style>\n",
       "<table border=\"1\" class=\"dataframe\">\n",
       "  <thead>\n",
       "    <tr style=\"text-align: right;\">\n",
       "      <th></th>\n",
       "      <th>Features</th>\n",
       "      <th>Coefficient</th>\n",
       "    </tr>\n",
       "  </thead>\n",
       "  <tbody>\n",
       "    <tr>\n",
       "      <th>5</th>\n",
       "      <td>white</td>\n",
       "      <td>-0.430852</td>\n",
       "    </tr>\n",
       "    <tr>\n",
       "      <th>3</th>\n",
       "      <td>hispanic</td>\n",
       "      <td>-0.390059</td>\n",
       "    </tr>\n",
       "    <tr>\n",
       "      <th>16</th>\n",
       "      <td>violation_Moving Violation: Speed</td>\n",
       "      <td>-0.352604</td>\n",
       "    </tr>\n",
       "    <tr>\n",
       "      <th>0</th>\n",
       "      <td>vehicle_year</td>\n",
       "      <td>-0.304920</td>\n",
       "    </tr>\n",
       "    <tr>\n",
       "      <th>26</th>\n",
       "      <td>rural_location</td>\n",
       "      <td>-0.258474</td>\n",
       "    </tr>\n",
       "    <tr>\n",
       "      <th>21</th>\n",
       "      <td>Late Morning</td>\n",
       "      <td>-0.237533</td>\n",
       "    </tr>\n",
       "    <tr>\n",
       "      <th>1</th>\n",
       "      <td>asian/pacific islander</td>\n",
       "      <td>-0.218508</td>\n",
       "    </tr>\n",
       "    <tr>\n",
       "      <th>10</th>\n",
       "      <td>violation_Commercial Vehicle</td>\n",
       "      <td>-0.188710</td>\n",
       "    </tr>\n",
       "    <tr>\n",
       "      <th>6</th>\n",
       "      <td>female</td>\n",
       "      <td>-0.157146</td>\n",
       "    </tr>\n",
       "    <tr>\n",
       "      <th>29</th>\n",
       "      <td>Spring</td>\n",
       "      <td>-0.149559</td>\n",
       "    </tr>\n",
       "    <tr>\n",
       "      <th>25</th>\n",
       "      <td>Noon</td>\n",
       "      <td>-0.145281</td>\n",
       "    </tr>\n",
       "    <tr>\n",
       "      <th>17</th>\n",
       "      <td>violation_Moving Violation: Traffic Sign or Si...</td>\n",
       "      <td>-0.145256</td>\n",
       "    </tr>\n",
       "    <tr>\n",
       "      <th>30</th>\n",
       "      <td>Summer</td>\n",
       "      <td>-0.113443</td>\n",
       "    </tr>\n",
       "    <tr>\n",
       "      <th>23</th>\n",
       "      <td>Morning</td>\n",
       "      <td>-0.095660</td>\n",
       "    </tr>\n",
       "    <tr>\n",
       "      <th>20</th>\n",
       "      <td>Late Afternoon</td>\n",
       "      <td>-0.010218</td>\n",
       "    </tr>\n",
       "    <tr>\n",
       "      <th>28</th>\n",
       "      <td>Fall</td>\n",
       "      <td>-0.001241</td>\n",
       "    </tr>\n",
       "    <tr>\n",
       "      <th>19</th>\n",
       "      <td>Evening</td>\n",
       "      <td>0.026900</td>\n",
       "    </tr>\n",
       "    <tr>\n",
       "      <th>8</th>\n",
       "      <td>violation_Equipment</td>\n",
       "      <td>0.041099</td>\n",
       "    </tr>\n",
       "    <tr>\n",
       "      <th>11</th>\n",
       "      <td>violation_License Plate/Registration</td>\n",
       "      <td>0.085106</td>\n",
       "    </tr>\n",
       "    <tr>\n",
       "      <th>22</th>\n",
       "      <td>Late Night</td>\n",
       "      <td>0.102658</td>\n",
       "    </tr>\n",
       "    <tr>\n",
       "      <th>24</th>\n",
       "      <td>Night</td>\n",
       "      <td>0.125609</td>\n",
       "    </tr>\n",
       "    <tr>\n",
       "      <th>7</th>\n",
       "      <td>male</td>\n",
       "      <td>0.157146</td>\n",
       "    </tr>\n",
       "    <tr>\n",
       "      <th>15</th>\n",
       "      <td>violation_Moving Violation: Seat Belt</td>\n",
       "      <td>0.161565</td>\n",
       "    </tr>\n",
       "    <tr>\n",
       "      <th>13</th>\n",
       "      <td>violation_Moving Violation: Lane Violation</td>\n",
       "      <td>0.164845</td>\n",
       "    </tr>\n",
       "    <tr>\n",
       "      <th>2</th>\n",
       "      <td>black</td>\n",
       "      <td>0.168222</td>\n",
       "    </tr>\n",
       "    <tr>\n",
       "      <th>12</th>\n",
       "      <td>violation_Moving Violation: Follow too close</td>\n",
       "      <td>0.187316</td>\n",
       "    </tr>\n",
       "    <tr>\n",
       "      <th>18</th>\n",
       "      <td>Early Morning</td>\n",
       "      <td>0.244232</td>\n",
       "    </tr>\n",
       "    <tr>\n",
       "      <th>27</th>\n",
       "      <td>urban_location</td>\n",
       "      <td>0.258474</td>\n",
       "    </tr>\n",
       "    <tr>\n",
       "      <th>31</th>\n",
       "      <td>Winter</td>\n",
       "      <td>0.261840</td>\n",
       "    </tr>\n",
       "    <tr>\n",
       "      <th>4</th>\n",
       "      <td>other</td>\n",
       "      <td>0.271893</td>\n",
       "    </tr>\n",
       "    <tr>\n",
       "      <th>14</th>\n",
       "      <td>violation_Moving Violation: Other</td>\n",
       "      <td>0.274128</td>\n",
       "    </tr>\n",
       "    <tr>\n",
       "      <th>9</th>\n",
       "      <td>department_id</td>\n",
       "      <td>0.411446</td>\n",
       "    </tr>\n",
       "  </tbody>\n",
       "</table>\n",
       "</div>"
      ],
      "text/plain": [
       "                                             Features  Coefficient\n",
       "5                                               white    -0.430852\n",
       "3                                            hispanic    -0.390059\n",
       "16                  violation_Moving Violation: Speed    -0.352604\n",
       "0                                        vehicle_year    -0.304920\n",
       "26                                     rural_location    -0.258474\n",
       "21                                       Late Morning    -0.237533\n",
       "1                              asian/pacific islander    -0.218508\n",
       "10                       violation_Commercial Vehicle    -0.188710\n",
       "6                                              female    -0.157146\n",
       "29                                             Spring    -0.149559\n",
       "25                                               Noon    -0.145281\n",
       "17  violation_Moving Violation: Traffic Sign or Si...    -0.145256\n",
       "30                                             Summer    -0.113443\n",
       "23                                            Morning    -0.095660\n",
       "20                                     Late Afternoon    -0.010218\n",
       "28                                               Fall    -0.001241\n",
       "19                                            Evening     0.026900\n",
       "8                                 violation_Equipment     0.041099\n",
       "11               violation_License Plate/Registration     0.085106\n",
       "22                                         Late Night     0.102658\n",
       "24                                              Night     0.125609\n",
       "7                                                male     0.157146\n",
       "15              violation_Moving Violation: Seat Belt     0.161565\n",
       "13         violation_Moving Violation: Lane Violation     0.164845\n",
       "2                                               black     0.168222\n",
       "12       violation_Moving Violation: Follow too close     0.187316\n",
       "18                                      Early Morning     0.244232\n",
       "27                                     urban_location     0.258474\n",
       "31                                             Winter     0.261840\n",
       "4                                               other     0.271893\n",
       "14                  violation_Moving Violation: Other     0.274128\n",
       "9                                       department_id     0.411446"
      ]
     },
     "execution_count": 83,
     "metadata": {},
     "output_type": "execute_result"
    }
   ],
   "source": [
    "df"
   ]
  },
  {
   "cell_type": "markdown",
   "id": "59232d05",
   "metadata": {},
   "source": [
    "### Model Evaluation"
   ]
  },
  {
   "cell_type": "code",
   "execution_count": 84,
   "id": "7e664686",
   "metadata": {},
   "outputs": [
    {
     "data": {
      "text/html": [
       "<div>\n",
       "<style scoped>\n",
       "    .dataframe tbody tr th:only-of-type {\n",
       "        vertical-align: middle;\n",
       "    }\n",
       "\n",
       "    .dataframe tbody tr th {\n",
       "        vertical-align: top;\n",
       "    }\n",
       "\n",
       "    .dataframe thead th {\n",
       "        text-align: right;\n",
       "    }\n",
       "</style>\n",
       "<table border=\"1\" class=\"dataframe\">\n",
       "  <thead>\n",
       "    <tr style=\"text-align: right;\">\n",
       "      <th></th>\n",
       "      <th>Model</th>\n",
       "      <th>ROC AUC Score</th>\n",
       "      <th>Accuracy</th>\n",
       "      <th>Precision</th>\n",
       "      <th>Recall</th>\n",
       "      <th>F-Score</th>\n",
       "    </tr>\n",
       "  </thead>\n",
       "  <tbody>\n",
       "    <tr>\n",
       "      <th>0</th>\n",
       "      <td>Logistic Regression</td>\n",
       "      <td>0.658811</td>\n",
       "      <td>0.63868</td>\n",
       "      <td>0.936779</td>\n",
       "      <td>0.63868</td>\n",
       "      <td>0.742855</td>\n",
       "    </tr>\n",
       "    <tr>\n",
       "      <th>1</th>\n",
       "      <td>LinearSVC</td>\n",
       "      <td>0.661487</td>\n",
       "      <td>0.63568</td>\n",
       "      <td>0.937272</td>\n",
       "      <td>0.63568</td>\n",
       "      <td>0.740533</td>\n",
       "    </tr>\n",
       "    <tr>\n",
       "      <th>2</th>\n",
       "      <td>SGD Classifier</td>\n",
       "      <td>0.628867</td>\n",
       "      <td>0.61312</td>\n",
       "      <td>0.933095</td>\n",
       "      <td>0.61312</td>\n",
       "      <td>0.723358</td>\n",
       "    </tr>\n",
       "  </tbody>\n",
       "</table>\n",
       "</div>"
      ],
      "text/plain": [
       "                 Model  ROC AUC Score  Accuracy  Precision   Recall   F-Score\n",
       "0  Logistic Regression       0.658811   0.63868   0.936779  0.63868  0.742855\n",
       "1            LinearSVC       0.661487   0.63568   0.937272  0.63568  0.740533\n",
       "2       SGD Classifier       0.628867   0.61312   0.933095  0.61312  0.723358"
      ]
     },
     "execution_count": 84,
     "metadata": {},
     "output_type": "execute_result"
    }
   ],
   "source": [
    "performances = [logit_perf, lsvc_perf, sgdc_perf]\n",
    "\n",
    "pd.DataFrame(performances, columns=['Model','ROC AUC Score', 'Accuracy', 'Precision', 'Recall', 'F-Score'])"
   ]
  },
  {
   "cell_type": "code",
   "execution_count": 85,
   "id": "88d2a890",
   "metadata": {},
   "outputs": [],
   "source": [
    "sns.set_style('white')"
   ]
  },
  {
   "cell_type": "markdown",
   "id": "4409f80e",
   "metadata": {},
   "source": [
    "#### <i> Note: While the classification model metrics above are tested on the full (unbalanced) dataset, the following confusion matrices display the model's performance on the training (balanced) dataset.</i>"
   ]
  },
  {
   "cell_type": "code",
   "execution_count": 86,
   "id": "cc59c0e2",
   "metadata": {},
   "outputs": [
    {
     "name": "stdout",
     "output_type": "stream",
     "text": [
      "Logistic Regression Model:\n"
     ]
    },
    {
     "data": {
      "image/png": "[encoded data removed]",
      "text/plain": [
       "<Figure size 360x288 with 2 Axes>"
      ]
     },
     "metadata": {},
     "output_type": "display_data"
    }
   ],
   "source": [
    "print('Logistic Regression Model:')\n",
    "logit_disp.plot();"
   ]
  },
  {
   "cell_type": "code",
   "execution_count": 87,
   "id": "f1b87150",
   "metadata": {},
   "outputs": [
    {
     "name": "stdout",
     "output_type": "stream",
     "text": [
      "LinearSVC Model:\n"
     ]
    },
    {
     "data": {
      "image/png": "[encoded data removed]",
      "text/plain": [
       "<Figure size 360x288 with 2 Axes>"
      ]
     },
     "metadata": {},
     "output_type": "display_data"
    }
   ],
   "source": [
    "print('LinearSVC Model:')\n",
    "lsvc_disp.plot();"
   ]
  },
  {
   "cell_type": "code",
   "execution_count": 88,
   "id": "b6225744",
   "metadata": {},
   "outputs": [
    {
     "name": "stdout",
     "output_type": "stream",
     "text": [
      "SGD Classifer Model:\n"
     ]
    },
    {
     "data": {
      "image/png": "[encoded data removed]",
      "text/plain": [
       "<Figure size 360x288 with 2 Axes>"
      ]
     },
     "metadata": {},
     "output_type": "display_data"
    }
   ],
   "source": [
    "print('SGD Classifer Model:')\n",
    "sgdc_disp.plot();"
   ]
  },
  {
   "cell_type": "markdown",
   "id": "3a38fb23",
   "metadata": {},
   "source": [
    "For the second hypothesis, the logistic regression model performed the best, as it has highest ROC AUC score, which is the preferred indicator for unbalanced data."
   ]
  },
  {
   "cell_type": "markdown",
   "id": "d451c1ba",
   "metadata": {},
   "source": [
    "# Conclusions"
   ]
  },
  {
   "cell_type": "markdown",
   "id": "d4808b8c",
   "metadata": {},
   "source": [
    "1. <b>Pierson, et al.’s findings hold true in Illinois.</b>\n",
    "\n",
    "    Black and Hispanic drivers are more likely to be both <b>ticketed and searched</b> than white drivers. \n",
    "\n",
    "\n",
    "\n",
    "2. <b>Further statistical hypothesis testing needed.</b>\n",
    "\n",
    "    Classification model precision, accuracy, ROC_AUC, etc scores not very high, so further testing necessary to determine statistical significance.\n"
   ]
  }
 ],
 "metadata": {
  "kernelspec": {
   "display_name": "Python 3 (ipykernel)",
   "language": "python",
   "name": "python3"
  },
  "language_info": {
   "codemirror_mode": {
    "name": "ipython",
    "version": 3
   },
   "file_extension": ".py",
   "mimetype": "text/x-python",
   "name": "python",
   "nbconvert_exporter": "python",
   "pygments_lexer": "ipython3",
   "version": "3.8.8"
  }
 },
 "nbformat": 4,
 "nbformat_minor": 5
}
